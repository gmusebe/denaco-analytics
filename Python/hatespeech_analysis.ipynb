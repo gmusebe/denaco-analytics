{
 "cells": [
  {
   "attachments": {},
   "cell_type": "markdown",
   "metadata": {},
   "source": [
    "# `Meltwater-HateSpeeech Data Analysis`\n",
    "The analysis covers twitter data and expose the malice behind ampilification of content that results to trennding content and hashtags. The data is from [Twitter](https://twitter.com/) scrapped through [Meltwater](https://app.meltwater.com/home) platform and API.\n",
    " \n",
    " The analysis seeks to answer whether the content shared is real or not or is there a motive behind the sharing and amplifying of content on Twitter.\n",
    "\n",
    " ## `Environment Setup`\n",
    " Using the jupyter notebook in conda environment, install requirements via terminal\n",
    " ```py\n",
    " conda install --file requirements.txt\n",
    " ```\n",
    "\n",
    " ### Install Requirements\n",
    " Ensure that the requirements.txt file is present in the working folder.\n",
    " Note: that I am using a python 3.10.9 kernel."
   ]
  },
  {
   "cell_type": "code",
   "execution_count": 13,
   "metadata": {},
   "outputs": [
    {
     "name": "stdout",
     "output_type": "stream",
     "text": [
      "Collecting numpy\n",
      "  Using cached numpy-1.24.2-cp310-cp310-macosx_11_0_arm64.whl (13.9 MB)\n",
      "Requirement already satisfied: pandas in /opt/homebrew/lib/python3.10/site-packages (from -r requirements.txt (line 2)) (1.5.2)\n",
      "Requirement already satisfied: matplotlib in /opt/homebrew/lib/python3.10/site-packages (from -r requirements.txt (line 3)) (3.6.2)\n",
      "Requirement already satisfied: seaborn in /opt/homebrew/lib/python3.10/site-packages (from -r requirements.txt (line 4)) (0.12.1)\n",
      "Requirement already satisfied: IPython in /Users/ivanmusebe/Library/Python/3.10/lib/python/site-packages (from -r requirements.txt (line 7)) (8.9.0)\n",
      "Requirement already satisfied: python-dateutil>=2.8.1 in /opt/homebrew/lib/python3.10/site-packages (from pandas->-r requirements.txt (line 2)) (2.8.2)\n",
      "Requirement already satisfied: pytz>=2020.1 in /opt/homebrew/lib/python3.10/site-packages (from pandas->-r requirements.txt (line 2)) (2022.6)\n",
      "Requirement already satisfied: kiwisolver>=1.0.1 in /opt/homebrew/lib/python3.10/site-packages (from matplotlib->-r requirements.txt (line 3)) (1.4.4)\n",
      "Requirement already satisfied: cycler>=0.10 in /opt/homebrew/lib/python3.10/site-packages (from matplotlib->-r requirements.txt (line 3)) (0.11.0)\n",
      "Requirement already satisfied: packaging>=20.0 in /opt/homebrew/lib/python3.10/site-packages (from matplotlib->-r requirements.txt (line 3)) (22.0)\n",
      "Requirement already satisfied: pyparsing>=2.2.1 in /opt/homebrew/lib/python3.10/site-packages (from matplotlib->-r requirements.txt (line 3)) (3.0.9)\n",
      "Requirement already satisfied: pillow>=6.2.0 in /opt/homebrew/lib/python3.10/site-packages (from matplotlib->-r requirements.txt (line 3)) (9.3.0)\n",
      "Requirement already satisfied: fonttools>=4.22.0 in /opt/homebrew/lib/python3.10/site-packages (from matplotlib->-r requirements.txt (line 3)) (4.38.0)\n",
      "Requirement already satisfied: contourpy>=1.0.1 in /opt/homebrew/lib/python3.10/site-packages (from matplotlib->-r requirements.txt (line 3)) (1.0.6)\n",
      "Requirement already satisfied: pygments>=2.4.0 in /Users/ivanmusebe/Library/Python/3.10/lib/python/site-packages (from IPython->-r requirements.txt (line 7)) (2.14.0)\n",
      "Requirement already satisfied: traitlets>=5 in /Users/ivanmusebe/Library/Python/3.10/lib/python/site-packages (from IPython->-r requirements.txt (line 7)) (5.9.0)\n",
      "Requirement already satisfied: pexpect>4.3 in /Users/ivanmusebe/Library/Python/3.10/lib/python/site-packages (from IPython->-r requirements.txt (line 7)) (4.8.0)\n",
      "Requirement already satisfied: appnope in /Users/ivanmusebe/Library/Python/3.10/lib/python/site-packages (from IPython->-r requirements.txt (line 7)) (0.1.3)\n",
      "Requirement already satisfied: pickleshare in /Users/ivanmusebe/Library/Python/3.10/lib/python/site-packages (from IPython->-r requirements.txt (line 7)) (0.7.5)\n",
      "Requirement already satisfied: jedi>=0.16 in /Users/ivanmusebe/Library/Python/3.10/lib/python/site-packages (from IPython->-r requirements.txt (line 7)) (0.18.2)\n",
      "Requirement already satisfied: prompt-toolkit<3.1.0,>=3.0.30 in /Users/ivanmusebe/Library/Python/3.10/lib/python/site-packages (from IPython->-r requirements.txt (line 7)) (3.0.36)\n",
      "Requirement already satisfied: backcall in /Users/ivanmusebe/Library/Python/3.10/lib/python/site-packages (from IPython->-r requirements.txt (line 7)) (0.2.0)\n",
      "Requirement already satisfied: matplotlib-inline in /Users/ivanmusebe/Library/Python/3.10/lib/python/site-packages (from IPython->-r requirements.txt (line 7)) (0.1.6)\n",
      "Requirement already satisfied: stack-data in /Users/ivanmusebe/Library/Python/3.10/lib/python/site-packages (from IPython->-r requirements.txt (line 7)) (0.6.2)\n",
      "Requirement already satisfied: decorator in /Users/ivanmusebe/Library/Python/3.10/lib/python/site-packages (from IPython->-r requirements.txt (line 7)) (5.1.1)\n",
      "Requirement already satisfied: parso<0.9.0,>=0.8.0 in /Users/ivanmusebe/Library/Python/3.10/lib/python/site-packages (from jedi>=0.16->IPython->-r requirements.txt (line 7)) (0.8.3)\n",
      "Requirement already satisfied: ptyprocess>=0.5 in /Users/ivanmusebe/Library/Python/3.10/lib/python/site-packages (from pexpect>4.3->IPython->-r requirements.txt (line 7)) (0.7.0)\n",
      "Requirement already satisfied: wcwidth in /Users/ivanmusebe/Library/Python/3.10/lib/python/site-packages (from prompt-toolkit<3.1.0,>=3.0.30->IPython->-r requirements.txt (line 7)) (0.2.6)\n",
      "Requirement already satisfied: six>=1.5 in /opt/homebrew/lib/python3.10/site-packages (from python-dateutil>=2.8.1->pandas->-r requirements.txt (line 2)) (1.16.0)\n",
      "Requirement already satisfied: executing>=1.2.0 in /Users/ivanmusebe/Library/Python/3.10/lib/python/site-packages (from stack-data->IPython->-r requirements.txt (line 7)) (1.2.0)\n",
      "Requirement already satisfied: asttokens>=2.1.0 in /Users/ivanmusebe/Library/Python/3.10/lib/python/site-packages (from stack-data->IPython->-r requirements.txt (line 7)) (2.2.1)\n",
      "Requirement already satisfied: pure-eval in /Users/ivanmusebe/Library/Python/3.10/lib/python/site-packages (from stack-data->IPython->-r requirements.txt (line 7)) (0.2.2)\n",
      "Installing collected packages: numpy\n",
      "Successfully installed numpy-1.24.2\n",
      "\n",
      "\u001b[1m[\u001b[0m\u001b[34;49mnotice\u001b[0m\u001b[1;39;49m]\u001b[0m\u001b[39;49m A new release of pip is available: \u001b[0m\u001b[31;49m23.0\u001b[0m\u001b[39;49m -> \u001b[0m\u001b[32;49m23.0.1\u001b[0m\n",
      "\u001b[1m[\u001b[0m\u001b[34;49mnotice\u001b[0m\u001b[1;39;49m]\u001b[0m\u001b[39;49m To update, run: \u001b[0m\u001b[32;49mpython3.10 -m pip install --upgrade pip\u001b[0m\n",
      "Note: you may need to restart the kernel to use updated packages.\n"
     ]
    }
   ],
   "source": [
    "%pip install -r requirements.txt #Install packages"
   ]
  },
  {
   "attachments": {},
   "cell_type": "markdown",
   "metadata": {},
   "source": [
    "## Import relevant Libraries or access Keys"
   ]
  },
  {
   "cell_type": "code",
   "execution_count": 14,
   "metadata": {},
   "outputs": [],
   "source": [
    "import numpy as np\n",
    "import pandas as pd\n",
    "from sentence_transformers import SentenceTransformer\n",
    "import matplotlib.pyplot as plt\n",
    "import seaborn as sns\n",
    "import csv\n",
    "# import datatable as dt\n",
    "import seaborn as sns\n",
    "pd.set_option('display.max_colwidth', None)\n",
    "from IPython.display import Image\n",
    "from collections import Counter\n",
    "import re\n",
    "import codecs"
   ]
  },
  {
   "attachments": {},
   "cell_type": "markdown",
   "metadata": {},
   "source": [
    "## `Data`\n",
    "### Import the data"
   ]
  },
  {
   "cell_type": "code",
   "execution_count": 16,
   "metadata": {},
   "outputs": [],
   "source": [
    "df = pd.read_csv(\"hatespeech tweets 2022.csv\")"
   ]
  },
  {
   "attachments": {},
   "cell_type": "markdown",
   "metadata": {},
   "source": [
    "### Basic data properties"
   ]
  },
  {
   "cell_type": "code",
   "execution_count": 22,
   "metadata": {},
   "outputs": [
    {
     "data": {
      "text/plain": [
       "(20000, 38)"
      ]
     },
     "execution_count": 22,
     "metadata": {},
     "output_type": "execute_result"
    }
   ],
   "source": [
    "df.shape"
   ]
  },
  {
   "attachments": {},
   "cell_type": "markdown",
   "metadata": {},
   "source": [
    "The data has 20000 tweets with 38 variables.\n",
    "\n",
    "A brief description of the data and the data types found in the data can be extracted by the function _`info()`_"
   ]
  },
  {
   "cell_type": "code",
   "execution_count": 20,
   "metadata": {},
   "outputs": [
    {
     "name": "stdout",
     "output_type": "stream",
     "text": [
      "<class 'pandas.core.frame.DataFrame'>\n",
      "RangeIndex: 20000 entries, 0 to 19999\n",
      "Data columns (total 38 columns):\n",
      " #   Column                 Non-Null Count  Dtype  \n",
      "---  ------                 --------------  -----  \n",
      " 0   Date                   20000 non-null  object \n",
      " 1   Headline               0 non-null      float64\n",
      " 2   URL                    20000 non-null  object \n",
      " 3   Opening Text           0 non-null      float64\n",
      " 4   Hit Sentence           20000 non-null  object \n",
      " 5   Source                 20000 non-null  object \n",
      " 6   Influencer             20000 non-null  object \n",
      " 7   Country                20000 non-null  object \n",
      " 8   Subregion              0 non-null      float64\n",
      " 9   Language               20000 non-null  object \n",
      " 10  Reach                  20000 non-null  int64  \n",
      " 11  Desktop Reach          20000 non-null  int64  \n",
      " 12  Mobile Reach           20000 non-null  int64  \n",
      " 13  Twitter Social Echo    0 non-null      float64\n",
      " 14  Facebook Social Echo   0 non-null      float64\n",
      " 15  Reddit Social Echo     0 non-null      float64\n",
      " 16  National Viewership    20000 non-null  int64  \n",
      " 17  Engagement             926 non-null    float64\n",
      " 18  AVE                    20000 non-null  float64\n",
      " 19  Sentiment              20000 non-null  object \n",
      " 20  Key Phrases            18674 non-null  object \n",
      " 21  Input Name             20000 non-null  object \n",
      " 22  Keywords               20000 non-null  object \n",
      " 23  Twitter Authority      19501 non-null  float64\n",
      " 24  Tweet Id               20000 non-null  object \n",
      " 25  Twitter Id             20000 non-null  object \n",
      " 26  Twitter Client         20000 non-null  object \n",
      " 27  Twitter Screen Name    19998 non-null  object \n",
      " 28  User Profile Url       20000 non-null  object \n",
      " 29  Twitter Bio            16366 non-null  object \n",
      " 30  Twitter Followers      19861 non-null  float64\n",
      " 31  Twitter Following      19961 non-null  float64\n",
      " 32  Alternate Date Format  20000 non-null  object \n",
      " 33  Time                   20000 non-null  object \n",
      " 34  State                  8978 non-null   object \n",
      " 35  City                   8569 non-null   object \n",
      " 36  Document Tags          0 non-null      float64\n",
      " 37  Views                  3 non-null      float64\n",
      "dtypes: float64(13), int64(4), object(21)\n",
      "memory usage: 5.8+ MB\n"
     ]
    }
   ],
   "source": [
    "df.info()"
   ]
  },
  {
   "attachments": {},
   "cell_type": "markdown",
   "metadata": {},
   "source": [
    "Since we would like to determine 'why the content shared' lets look at the consentiments and the content shared and there sentiments:"
   ]
  },
  {
   "cell_type": "code",
   "execution_count": 17,
   "metadata": {},
   "outputs": [
    {
     "data": {
      "text/html": [
       "<div>\n",
       "<style scoped>\n",
       "    .dataframe tbody tr th:only-of-type {\n",
       "        vertical-align: middle;\n",
       "    }\n",
       "\n",
       "    .dataframe tbody tr th {\n",
       "        vertical-align: top;\n",
       "    }\n",
       "\n",
       "    .dataframe thead th {\n",
       "        text-align: right;\n",
       "    }\n",
       "</style>\n",
       "<table border=\"1\" class=\"dataframe\">\n",
       "  <thead>\n",
       "    <tr style=\"text-align: right;\">\n",
       "      <th></th>\n",
       "      <th>Hit Sentence</th>\n",
       "      <th>Sentiment</th>\n",
       "    </tr>\n",
       "  </thead>\n",
       "  <tbody>\n",
       "    <tr>\n",
       "      <th>0</th>\n",
       "      <td>RT @julius_muiruri: Hatupangwingwi. ; Consumers will be hit by an electricity price shock in January 2023 as the subsidy which retired president Uhuru Kenyatta initiated is dropped. https://t.co/dt6jEfQruY</td>\n",
       "      <td>Negative</td>\n",
       "    </tr>\n",
       "    <tr>\n",
       "      <th>1</th>\n",
       "      <td>RT @julius_muiruri: Hatupangwingwi. ; Consumers will be hit by an electricity price shock in January 2023 as the subsidy which retired president Uhuru Kenyatta initiated is dropped. https://t.co/dt6jEfQruY</td>\n",
       "      <td>Negative</td>\n",
       "    </tr>\n",
       "    <tr>\n",
       "      <th>2</th>\n",
       "      <td>QT @OmKaYoo: so? ; Twitter feed today is filled with skid and ruto being horny, mouth watering over breaking bad, or getting pissed at and threatening to hurt/kill absolutely nobody</td>\n",
       "      <td>Negative</td>\n",
       "    </tr>\n",
       "    <tr>\n",
       "      <th>3</th>\n",
       "      <td>@NjiruAdv @rigathi @WilliamsRuto Bitterness will kill this \"Black Bull\" @NjiruAdv. What did Riggy G and Samoei son of Ruto ever do to you other than beating your candidates, great grandpa @RailaOdinga and grandma @MarthaKarua hands down? Continued barking doesn't add you cleints; Actual working does!</td>\n",
       "      <td>Negative</td>\n",
       "    </tr>\n",
       "    <tr>\n",
       "      <th>4</th>\n",
       "      <td>RT @julius_muiruri: Hatupangwingwi. ; Consumers will be hit by an electricity price shock in January 2023 as the subsidy which retired president Uhuru Kenyatta initiated is dropped. https://t.co/dt6jEfQruY</td>\n",
       "      <td>Negative</td>\n",
       "    </tr>\n",
       "    <tr>\n",
       "      <th>...</th>\n",
       "      <td>...</td>\n",
       "      <td>...</td>\n",
       "    </tr>\n",
       "    <tr>\n",
       "      <th>19995</th>\n",
       "      <td>@WilliamsRuto We believe as team UDA that Kenya is greater and speaks louder than any other self-proclaimed opposition president whose political interests are based on thwarfting upcoming young politicians@ Raila's followers are blind to see that they are being used kill abilities.........</td>\n",
       "      <td>Negative</td>\n",
       "    </tr>\n",
       "    <tr>\n",
       "      <th>19996</th>\n",
       "      <td>RT @joekaranja91: PRESIDENT Uhuru Kenyatta has asked the GEMA community to remember just one thing he has done for them. Personally I'll never forget how the KRA and KPA delays led to the collapse of my business. I'll not forget how per cbm prices were doubled to kill our investment.</td>\n",
       "      <td>Negative</td>\n",
       "    </tr>\n",
       "    <tr>\n",
       "      <th>19997</th>\n",
       "      <td>RT @joekaranja91: PRESIDENT Uhuru Kenyatta has asked the GEMA community to remember just one thing he has done for them. Personally I'll never forget how the KRA and KPA delays led to the collapse of my business. I'll not forget how per cbm prices were doubled to kill our investment.</td>\n",
       "      <td>Negative</td>\n",
       "    </tr>\n",
       "    <tr>\n",
       "      <th>19998</th>\n",
       "      <td>@AldrinSimbaa @LochRapemo @MosesMw10357761 @MutahiNgunyi Depression will kill you guys cz you can't keep on telling Kenyans...is our freedom fighter yet he has no record of such.I know raila as a very selfish person I mean he can't share anything maybe if that one thing is for his personal gain anything else</td>\n",
       "      <td>Negative</td>\n",
       "    </tr>\n",
       "    <tr>\n",
       "      <th>19999</th>\n",
       "      <td>@rono847123001 @EllyOuko5 @RobertAlai There are many young and able leaders like kina Tuju and Kidero but Raila chose to kill their dreams. Wacha akule ujeuri yake.</td>\n",
       "      <td>Neutral</td>\n",
       "    </tr>\n",
       "  </tbody>\n",
       "</table>\n",
       "<p>20000 rows × 2 columns</p>\n",
       "</div>"
      ],
      "text/plain": [
       "                                                                                                                                                                                                                                                                                                                Hit Sentence  \\\n",
       "0                                                                                                              RT @julius_muiruri: Hatupangwingwi. ; Consumers will be hit by an electricity price shock in January 2023 as the subsidy which retired president Uhuru Kenyatta initiated is dropped. https://t.co/dt6jEfQruY   \n",
       "1                                                                                                              RT @julius_muiruri: Hatupangwingwi. ; Consumers will be hit by an electricity price shock in January 2023 as the subsidy which retired president Uhuru Kenyatta initiated is dropped. https://t.co/dt6jEfQruY   \n",
       "2                                                                                                                                      QT @OmKaYoo: so? ; Twitter feed today is filled with skid and ruto being horny, mouth watering over breaking bad, or getting pissed at and threatening to hurt/kill absolutely nobody   \n",
       "3              @NjiruAdv @rigathi @WilliamsRuto Bitterness will kill this \"Black Bull\" @NjiruAdv. What did Riggy G and Samoei son of Ruto ever do to you other than beating your candidates, great grandpa @RailaOdinga and grandma @MarthaKarua hands down? Continued barking doesn't add you cleints; Actual working does!   \n",
       "4                                                                                                              RT @julius_muiruri: Hatupangwingwi. ; Consumers will be hit by an electricity price shock in January 2023 as the subsidy which retired president Uhuru Kenyatta initiated is dropped. https://t.co/dt6jEfQruY   \n",
       "...                                                                                                                                                                                                                                                                                                                      ...   \n",
       "19995                     @WilliamsRuto We believe as team UDA that Kenya is greater and speaks louder than any other self-proclaimed opposition president whose political interests are based on thwarfting upcoming young politicians@ Raila's followers are blind to see that they are being used kill abilities.........   \n",
       "19996                           RT @joekaranja91: PRESIDENT Uhuru Kenyatta has asked the GEMA community to remember just one thing he has done for them. Personally I'll never forget how the KRA and KPA delays led to the collapse of my business. I'll not forget how per cbm prices were doubled to kill our investment.   \n",
       "19997                           RT @joekaranja91: PRESIDENT Uhuru Kenyatta has asked the GEMA community to remember just one thing he has done for them. Personally I'll never forget how the KRA and KPA delays led to the collapse of my business. I'll not forget how per cbm prices were doubled to kill our investment.   \n",
       "19998  @AldrinSimbaa @LochRapemo @MosesMw10357761 @MutahiNgunyi Depression will kill you guys cz you can't keep on telling Kenyans...is our freedom fighter yet he has no record of such.I know raila as a very selfish person I mean he can't share anything maybe if that one thing is for his personal gain anything else   \n",
       "19999                                                                                                                                                   @rono847123001 @EllyOuko5 @RobertAlai There are many young and able leaders like kina Tuju and Kidero but Raila chose to kill their dreams. Wacha akule ujeuri yake.   \n",
       "\n",
       "      Sentiment  \n",
       "0      Negative  \n",
       "1      Negative  \n",
       "2      Negative  \n",
       "3      Negative  \n",
       "4      Negative  \n",
       "...         ...  \n",
       "19995  Negative  \n",
       "19996  Negative  \n",
       "19997  Negative  \n",
       "19998  Negative  \n",
       "19999   Neutral  \n",
       "\n",
       "[20000 rows x 2 columns]"
      ]
     },
     "execution_count": 17,
     "metadata": {},
     "output_type": "execute_result"
    }
   ],
   "source": [
    "df[['Hit Sentence', 'Sentiment']]"
   ]
  },
  {
   "attachments": {},
   "cell_type": "markdown",
   "metadata": {},
   "source": [
    "You will observe that from an overview we have most retweets with negative sentiments.\n",
    "\n",
    "One major focus of the analysis is natural language processing where we focus of the tweets content in determining similarities in sharing of original content.\n",
    "\n",
    "For starters let's rename the 'Hit Sentence' to tweet and Influencer to target:"
   ]
  },
  {
   "cell_type": "code",
   "execution_count": 23,
   "metadata": {},
   "outputs": [],
   "source": [
    "df.rename(columns={'Hit Sentence' :'tweet'},inplace=True)\n",
    "df.rename(columns={'Influencer' :'target'},inplace=True)"
   ]
  },
  {
   "attachments": {},
   "cell_type": "markdown",
   "metadata": {},
   "source": [
    "## `Language Analysis`\n",
    "### Original Tweets\n",
    "While there are 20000 tweets how many original tweets do we have? These are the tweeets that do not have the phrase \"RT\"  to signify \"retweeted\" or \"QT\" for quoted tweets."
   ]
  },
  {
   "cell_type": "code",
   "execution_count": 30,
   "metadata": {},
   "outputs": [
    {
     "data": {
      "text/plain": [
       "(3512, 38)"
      ]
     },
     "execution_count": 30,
     "metadata": {},
     "output_type": "execute_result"
    }
   ],
   "source": [
    "# Drop retweets\n",
    "original_tweets = df[df[\"tweet\"].str.startswith(\"RT\") == False]\n",
    "\n",
    "# Drop quoted tweets\n",
    "original_tweets = original_tweets[original_tweets[\"tweet\"].str.startswith(\"QT\") == False]\n",
    "\n",
    "# Original tweets\n",
    "original_shape = original_tweets.shape\n",
    "original_shape"
   ]
  },
  {
   "attachments": {},
   "cell_type": "markdown",
   "metadata": {},
   "source": [
    "**Result:** There are 3512 original tweets from 20000 tweets.\n",
    "\n",
    "This could only mean that the 3512 tweets could have been retweeted multiple times.\n",
    "\n",
    "The question is why? And is there a network of accounts meant to only retweet contents of a particular account?\n",
    "Also are the accounts retweeting this content real people or are they bots?\n",
    "\n",
    "### Unique Accounts\n",
    "Of the 3512 original tweets, how many unique users to we have?"
   ]
  },
  {
   "cell_type": "code",
   "execution_count": 26,
   "metadata": {},
   "outputs": [
    {
     "data": {
      "text/plain": [
       "2626"
      ]
     },
     "execution_count": 26,
     "metadata": {},
     "output_type": "execute_result"
    }
   ],
   "source": [
    "# Number of unique accounts\n",
    "original_tweets['target'].nunique()"
   ]
  },
  {
   "attachments": {},
   "cell_type": "markdown",
   "metadata": {},
   "source": [
    "The data contains 2626 unique users who shared content with hatespeech words.\n",
    "\n",
    "### Keyword Search\n",
    "One of the hatespeech words used and flagged by the NCIC during the elction period is the phrase \"**_kill_**\".\n",
    "\n",
    "How many original tweets used this phrase in their content?"
   ]
  },
  {
   "cell_type": "code",
   "execution_count": 35,
   "metadata": {},
   "outputs": [
    {
     "name": "stdout",
     "output_type": "stream",
     "text": [
      "(2337, 38)\n",
      "The percentage is: 66.54328018223235 %\n"
     ]
    }
   ],
   "source": [
    "df_kill_original = original_tweets[original_tweets[\"tweet\"].str.contains(\"kill\")]\n",
    "keyword_shape = df_kill_original.shape\n",
    "print(keyword_shape)\n",
    "\n",
    "\n",
    "percentage = (keyword_shape[0]/original_shape[0]) * 100\n",
    "print(\"The percentage is:\", percentage, \"%\")\n"
   ]
  },
  {
   "attachments": {},
   "cell_type": "markdown",
   "metadata": {},
   "source": [
    "Note that 2337 of 3512 tweets used the phrase \"**_kill_**\". This is 66% of all the tweet\n",
    "\n",
    "Why are 2337 people using a single word in their tweets? What is the impact of the same?\n",
    "\n",
    "### Quoted Tweets\n",
    "These are tweets that begin with the phrase \"QT\". How many are there that have the phrase \"**_kill_**\"?"
   ]
  },
  {
   "cell_type": "code",
   "execution_count": 41,
   "metadata": {},
   "outputs": [
    {
     "data": {
      "text/plain": [
       "(1077, 38)"
      ]
     },
     "execution_count": 41,
     "metadata": {},
     "output_type": "execute_result"
    }
   ],
   "source": [
    "quoted_tweets = df[df[\"tweet\"].str.startswith(\"QT\") == True]\n",
    "df_kill_quoted = quoted_tweets[quoted_tweets[\"tweet\"].str.contains(\"kill\")]\n",
    "df_kill_quoted.shape"
   ]
  },
  {
   "attachments": {},
   "cell_type": "markdown",
   "metadata": {},
   "source": [
    "There are 1077 quoted tweets with the phrase kill.\n",
    "\n",
    "### Retweets\n",
    "On Twitter, this is one of the major ways that accounts use to amplify content."
   ]
  },
  {
   "cell_type": "code",
   "execution_count": 47,
   "metadata": {},
   "outputs": [
    {
     "name": "stdout",
     "output_type": "stream",
     "text": [
      "(14952, 38)\n",
      "The Retweeted percentage is: 74.76 %\n",
      "The Quoted percentage is: 7.68 %\n",
      "The Original percentage is: 17.560000000000002 %\n"
     ]
    }
   ],
   "source": [
    "retweeted_tweets = df[df[\"tweet\"].str.startswith(\"RT\") == True]\n",
    "print(retweeted_tweets.shape)\n",
    "\n",
    "# Retweeted content\n",
    "percentage = (retweeted_tweets.shape[0]/df.shape[0]) * 100\n",
    "print(\"The Retweeted percentage is:\", percentage, \"%\")\n",
    "\n",
    "# Quoted content\n",
    "percentage = (quoted_tweets.shape[0]/df.shape[0]) * 100\n",
    "print(\"The Quoted percentage is:\", percentage, \"%\")\n",
    "\n",
    "original_tweets.shape\n",
    "# Quoted content\n",
    "percentage = (original_tweets.shape[0]/df.shape[0]) * 100\n",
    "print(\"The Original percentage is:\", percentage, \"%\")"
   ]
  },
  {
   "attachments": {},
   "cell_type": "markdown",
   "metadata": {},
   "source": [
    "There area 14952 retweets. \n",
    "\n",
    "From this sample we can conclude that 75% of content in Twiiter has been amplified through retweeting and only 17% of the Tweets are original."
   ]
  },
  {
   "cell_type": "code",
   "execution_count": 49,
   "metadata": {},
   "outputs": [
    {
     "name": "stdout",
     "output_type": "stream",
     "text": [
      "Collecting sentence-transformers\n",
      "  Using cached sentence-transformers-2.2.2.tar.gz (85 kB)\n",
      "  Preparing metadata (setup.py) ... \u001b[?25ldone\n",
      "\u001b[?25hCollecting transformers<5.0.0,>=4.6.0\n"
     ]
    }
   ],
   "source": [
    "%pip install sentence-transformers"
   ]
  },
  {
   "cell_type": "code",
   "execution_count": 48,
   "metadata": {},
   "outputs": [
    {
     "ename": "ModuleNotFoundError",
     "evalue": "No module named 'sentence_transformers'",
     "output_type": "error",
     "traceback": [
      "\u001b[0;31m---------------------------------------------------------------------------\u001b[0m",
      "\u001b[0;31mModuleNotFoundError\u001b[0m                       Traceback (most recent call last)",
      "Cell \u001b[0;32mIn[48], line 1\u001b[0m\n\u001b[0;32m----> 1\u001b[0m \u001b[39mfrom\u001b[39;00m \u001b[39msentence_transformers\u001b[39;00m \u001b[39mimport\u001b[39;00m SentenceTransformer\n",
      "\u001b[0;31mModuleNotFoundError\u001b[0m: No module named 'sentence_transformers'"
     ]
    }
   ],
   "source": [
    "from sentence_transformers import SentenceTransformer"
   ]
  }
 ],
 "metadata": {
  "kernelspec": {
   "display_name": "Python 3",
   "language": "python",
   "name": "python3"
  },
  "language_info": {
   "codemirror_mode": {
    "name": "ipython",
    "version": 3
   },
   "file_extension": ".py",
   "mimetype": "text/x-python",
   "name": "python",
   "nbconvert_exporter": "python",
   "pygments_lexer": "ipython3",
   "version": "3.10.9"
  },
  "orig_nbformat": 4
 },
 "nbformat": 4,
 "nbformat_minor": 2
}
