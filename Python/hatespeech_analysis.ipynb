{
 "cells": [
  {
   "attachments": {},
   "cell_type": "markdown",
   "metadata": {},
   "source": [
    "# `Meltwater-HateSpeeech Data Analysis`\n",
    "The analysis covers twitter data and expose the malice behind ampilification of content that results to trennding content and hashtags. The data is from [Twitter](https://twitter.com/) scrapped through [Meltwater](https://app.meltwater.com/home) platform and API.\n",
    " \n",
    " The analysis seeks to answer whether the content shared is real or not or is there a motive behind the sharing and amplifying of content on Twitter.\n",
    "\n",
    " ## `Environment Setup`\n",
    " Using the jupyter notebook in conda environment, install requirements via terminal\n",
    " ```py\n",
    " conda install --file requirements.txt\n",
    " ```\n",
    "\n",
    " ### Install Requirements\n",
    " Ensure that the requirements.txt file is present in the working folder.\n",
    " \n",
    " Note: that I am using a python 3.9.13 kernel in a conda environment."
   ]
  },
  {
   "cell_type": "code",
   "execution_count": 33,
   "metadata": {},
   "outputs": [
    {
     "name": "stdout",
     "output_type": "stream",
     "text": [
      "Requirement already satisfied: numpy in /home/codespace/.local/lib/python3.10/site-packages (from -r requirements.txt (line 1)) (1.24.2)\n",
      "Requirement already satisfied: pandas in /home/codespace/.local/lib/python3.10/site-packages (from -r requirements.txt (line 2)) (2.0.0)\n",
      "Requirement already satisfied: matplotlib in /home/codespace/.local/lib/python3.10/site-packages (from -r requirements.txt (line 3)) (3.7.1)\n",
      "Requirement already satisfied: seaborn in /home/codespace/.local/lib/python3.10/site-packages (from -r requirements.txt (line 4)) (0.12.2)\n",
      "Requirement already satisfied: IPython in /home/codespace/.local/lib/python3.10/site-packages (from -r requirements.txt (line 6)) (8.12.0)\n",
      "Requirement already satisfied: sentence-transformers in /usr/local/python/3.10.4/lib/python3.10/site-packages (from -r requirements.txt (line 7)) (2.2.2)\n",
      "Requirement already satisfied: wordcloud in /usr/local/python/3.10.4/lib/python3.10/site-packages (from -r requirements.txt (line 8)) (1.8.2.2)\n",
      "Requirement already satisfied: tzdata>=2022.1 in /home/codespace/.local/lib/python3.10/site-packages (from pandas->-r requirements.txt (line 2)) (2023.3)\n",
      "Requirement already satisfied: pytz>=2020.1 in /home/codespace/.local/lib/python3.10/site-packages (from pandas->-r requirements.txt (line 2)) (2023.3)\n",
      "Requirement already satisfied: python-dateutil>=2.8.2 in /home/codespace/.local/lib/python3.10/site-packages (from pandas->-r requirements.txt (line 2)) (2.8.2)\n",
      "Requirement already satisfied: contourpy>=1.0.1 in /home/codespace/.local/lib/python3.10/site-packages (from matplotlib->-r requirements.txt (line 3)) (1.0.7)\n",
      "Requirement already satisfied: packaging>=20.0 in /home/codespace/.local/lib/python3.10/site-packages (from matplotlib->-r requirements.txt (line 3)) (23.0)\n",
      "Requirement already satisfied: fonttools>=4.22.0 in /home/codespace/.local/lib/python3.10/site-packages (from matplotlib->-r requirements.txt (line 3)) (4.39.3)\n",
      "Requirement already satisfied: pyparsing>=2.3.1 in /home/codespace/.local/lib/python3.10/site-packages (from matplotlib->-r requirements.txt (line 3)) (3.0.9)\n",
      "Requirement already satisfied: cycler>=0.10 in /home/codespace/.local/lib/python3.10/site-packages (from matplotlib->-r requirements.txt (line 3)) (0.11.0)\n",
      "Requirement already satisfied: kiwisolver>=1.0.1 in /home/codespace/.local/lib/python3.10/site-packages (from matplotlib->-r requirements.txt (line 3)) (1.4.4)\n",
      "Requirement already satisfied: pillow>=6.2.0 in /home/codespace/.local/lib/python3.10/site-packages (from matplotlib->-r requirements.txt (line 3)) (9.5.0)\n",
      "Requirement already satisfied: pickleshare in /home/codespace/.local/lib/python3.10/site-packages (from IPython->-r requirements.txt (line 6)) (0.7.5)\n",
      "Requirement already satisfied: prompt-toolkit!=3.0.37,<3.1.0,>=3.0.30 in /home/codespace/.local/lib/python3.10/site-packages (from IPython->-r requirements.txt (line 6)) (3.0.38)\n",
      "Requirement already satisfied: jedi>=0.16 in /home/codespace/.local/lib/python3.10/site-packages (from IPython->-r requirements.txt (line 6)) (0.18.2)\n",
      "Requirement already satisfied: pexpect>4.3 in /home/codespace/.local/lib/python3.10/site-packages (from IPython->-r requirements.txt (line 6)) (4.8.0)\n",
      "Requirement already satisfied: decorator in /home/codespace/.local/lib/python3.10/site-packages (from IPython->-r requirements.txt (line 6)) (5.1.1)\n",
      "Requirement already satisfied: backcall in /home/codespace/.local/lib/python3.10/site-packages (from IPython->-r requirements.txt (line 6)) (0.2.0)\n",
      "Requirement already satisfied: matplotlib-inline in /home/codespace/.local/lib/python3.10/site-packages (from IPython->-r requirements.txt (line 6)) (0.1.6)\n",
      "Requirement already satisfied: stack-data in /home/codespace/.local/lib/python3.10/site-packages (from IPython->-r requirements.txt (line 6)) (0.6.2)\n",
      "Requirement already satisfied: pygments>=2.4.0 in /home/codespace/.local/lib/python3.10/site-packages (from IPython->-r requirements.txt (line 6)) (2.14.0)\n",
      "Requirement already satisfied: traitlets>=5 in /home/codespace/.local/lib/python3.10/site-packages (from IPython->-r requirements.txt (line 6)) (5.9.0)\n",
      "Requirement already satisfied: sentencepiece in /usr/local/python/3.10.4/lib/python3.10/site-packages (from sentence-transformers->-r requirements.txt (line 7)) (0.1.98)\n",
      "Requirement already satisfied: scikit-learn in /home/codespace/.local/lib/python3.10/site-packages (from sentence-transformers->-r requirements.txt (line 7)) (1.2.2)\n",
      "Requirement already satisfied: nltk in /usr/local/python/3.10.4/lib/python3.10/site-packages (from sentence-transformers->-r requirements.txt (line 7)) (3.8.1)\n",
      "Requirement already satisfied: transformers<5.0.0,>=4.6.0 in /usr/local/python/3.10.4/lib/python3.10/site-packages (from sentence-transformers->-r requirements.txt (line 7)) (4.28.0)\n",
      "Requirement already satisfied: tqdm in /usr/local/python/3.10.4/lib/python3.10/site-packages (from sentence-transformers->-r requirements.txt (line 7)) (4.65.0)\n",
      "Requirement already satisfied: torchvision in /usr/local/python/3.10.4/lib/python3.10/site-packages (from sentence-transformers->-r requirements.txt (line 7)) (0.15.1)\n",
      "Requirement already satisfied: huggingface-hub>=0.4.0 in /usr/local/python/3.10.4/lib/python3.10/site-packages (from sentence-transformers->-r requirements.txt (line 7)) (0.13.4)\n",
      "Requirement already satisfied: torch>=1.6.0 in /home/codespace/.local/lib/python3.10/site-packages (from sentence-transformers->-r requirements.txt (line 7)) (2.0.0)\n",
      "Requirement already satisfied: scipy in /home/codespace/.local/lib/python3.10/site-packages (from sentence-transformers->-r requirements.txt (line 7)) (1.10.1)\n",
      "Requirement already satisfied: pyyaml>=5.1 in /home/codespace/.local/lib/python3.10/site-packages (from huggingface-hub>=0.4.0->sentence-transformers->-r requirements.txt (line 7)) (6.0)\n",
      "Requirement already satisfied: typing-extensions>=3.7.4.3 in /home/codespace/.local/lib/python3.10/site-packages (from huggingface-hub>=0.4.0->sentence-transformers->-r requirements.txt (line 7)) (4.5.0)\n",
      "Requirement already satisfied: filelock in /home/codespace/.local/lib/python3.10/site-packages (from huggingface-hub>=0.4.0->sentence-transformers->-r requirements.txt (line 7)) (3.10.7)\n",
      "Requirement already satisfied: requests in /home/codespace/.local/lib/python3.10/site-packages (from huggingface-hub>=0.4.0->sentence-transformers->-r requirements.txt (line 7)) (2.28.2)\n",
      "Requirement already satisfied: parso<0.9.0,>=0.8.0 in /home/codespace/.local/lib/python3.10/site-packages (from jedi>=0.16->IPython->-r requirements.txt (line 6)) (0.8.3)\n",
      "Requirement already satisfied: ptyprocess>=0.5 in /home/codespace/.local/lib/python3.10/site-packages (from pexpect>4.3->IPython->-r requirements.txt (line 6)) (0.7.0)\n",
      "Requirement already satisfied: wcwidth in /home/codespace/.local/lib/python3.10/site-packages (from prompt-toolkit!=3.0.37,<3.1.0,>=3.0.30->IPython->-r requirements.txt (line 6)) (0.2.6)\n",
      "Requirement already satisfied: six>=1.5 in /home/codespace/.local/lib/python3.10/site-packages (from python-dateutil>=2.8.2->pandas->-r requirements.txt (line 2)) (1.16.0)\n",
      "Requirement already satisfied: nvidia-cusolver-cu11==11.4.0.1 in /home/codespace/.local/lib/python3.10/site-packages (from torch>=1.6.0->sentence-transformers->-r requirements.txt (line 7)) (11.4.0.1)\n",
      "Requirement already satisfied: nvidia-cusparse-cu11==11.7.4.91 in /home/codespace/.local/lib/python3.10/site-packages (from torch>=1.6.0->sentence-transformers->-r requirements.txt (line 7)) (11.7.4.91)\n",
      "Requirement already satisfied: triton==2.0.0 in /home/codespace/.local/lib/python3.10/site-packages (from torch>=1.6.0->sentence-transformers->-r requirements.txt (line 7)) (2.0.0)\n",
      "Requirement already satisfied: nvidia-cuda-cupti-cu11==11.7.101 in /home/codespace/.local/lib/python3.10/site-packages (from torch>=1.6.0->sentence-transformers->-r requirements.txt (line 7)) (11.7.101)\n",
      "Requirement already satisfied: jinja2 in /home/codespace/.local/lib/python3.10/site-packages (from torch>=1.6.0->sentence-transformers->-r requirements.txt (line 7)) (3.1.2)\n",
      "Requirement already satisfied: nvidia-nvtx-cu11==11.7.91 in /home/codespace/.local/lib/python3.10/site-packages (from torch>=1.6.0->sentence-transformers->-r requirements.txt (line 7)) (11.7.91)\n",
      "Requirement already satisfied: nvidia-cufft-cu11==10.9.0.58 in /home/codespace/.local/lib/python3.10/site-packages (from torch>=1.6.0->sentence-transformers->-r requirements.txt (line 7)) (10.9.0.58)\n",
      "Requirement already satisfied: nvidia-cuda-nvrtc-cu11==11.7.99 in /home/codespace/.local/lib/python3.10/site-packages (from torch>=1.6.0->sentence-transformers->-r requirements.txt (line 7)) (11.7.99)\n",
      "Requirement already satisfied: nvidia-cuda-runtime-cu11==11.7.99 in /home/codespace/.local/lib/python3.10/site-packages (from torch>=1.6.0->sentence-transformers->-r requirements.txt (line 7)) (11.7.99)\n",
      "Requirement already satisfied: nvidia-cublas-cu11==11.10.3.66 in /home/codespace/.local/lib/python3.10/site-packages (from torch>=1.6.0->sentence-transformers->-r requirements.txt (line 7)) (11.10.3.66)\n",
      "Requirement already satisfied: nvidia-curand-cu11==10.2.10.91 in /home/codespace/.local/lib/python3.10/site-packages (from torch>=1.6.0->sentence-transformers->-r requirements.txt (line 7)) (10.2.10.91)\n",
      "Requirement already satisfied: nvidia-nccl-cu11==2.14.3 in /home/codespace/.local/lib/python3.10/site-packages (from torch>=1.6.0->sentence-transformers->-r requirements.txt (line 7)) (2.14.3)\n",
      "Requirement already satisfied: sympy in /home/codespace/.local/lib/python3.10/site-packages (from torch>=1.6.0->sentence-transformers->-r requirements.txt (line 7)) (1.11.1)\n",
      "Requirement already satisfied: nvidia-cudnn-cu11==8.5.0.96 in /home/codespace/.local/lib/python3.10/site-packages (from torch>=1.6.0->sentence-transformers->-r requirements.txt (line 7)) (8.5.0.96)\n",
      "Requirement already satisfied: networkx in /home/codespace/.local/lib/python3.10/site-packages (from torch>=1.6.0->sentence-transformers->-r requirements.txt (line 7)) (3.0)\n",
      "Requirement already satisfied: wheel in /home/codespace/.local/lib/python3.10/site-packages (from nvidia-cublas-cu11==11.10.3.66->torch>=1.6.0->sentence-transformers->-r requirements.txt (line 7)) (0.40.0)\n",
      "Requirement already satisfied: setuptools in /home/codespace/.local/lib/python3.10/site-packages (from nvidia-cublas-cu11==11.10.3.66->torch>=1.6.0->sentence-transformers->-r requirements.txt (line 7)) (67.6.1)\n",
      "Requirement already satisfied: cmake in /home/codespace/.local/lib/python3.10/site-packages (from triton==2.0.0->torch>=1.6.0->sentence-transformers->-r requirements.txt (line 7)) (3.26.1)\n",
      "Requirement already satisfied: lit in /home/codespace/.local/lib/python3.10/site-packages (from triton==2.0.0->torch>=1.6.0->sentence-transformers->-r requirements.txt (line 7)) (16.0.0)\n",
      "Requirement already satisfied: tokenizers!=0.11.3,<0.14,>=0.11.1 in /usr/local/python/3.10.4/lib/python3.10/site-packages (from transformers<5.0.0,>=4.6.0->sentence-transformers->-r requirements.txt (line 7)) (0.13.3)\n",
      "Requirement already satisfied: regex!=2019.12.17 in /usr/local/python/3.10.4/lib/python3.10/site-packages (from transformers<5.0.0,>=4.6.0->sentence-transformers->-r requirements.txt (line 7)) (2023.3.23)\n",
      "Requirement already satisfied: click in /usr/local/python/3.10.4/lib/python3.10/site-packages (from nltk->sentence-transformers->-r requirements.txt (line 7)) (8.1.3)\n",
      "Requirement already satisfied: joblib in /home/codespace/.local/lib/python3.10/site-packages (from nltk->sentence-transformers->-r requirements.txt (line 7)) (1.2.0)\n",
      "Requirement already satisfied: threadpoolctl>=2.0.0 in /home/codespace/.local/lib/python3.10/site-packages (from scikit-learn->sentence-transformers->-r requirements.txt (line 7)) (3.1.0)\n",
      "Requirement already satisfied: pure-eval in /home/codespace/.local/lib/python3.10/site-packages (from stack-data->IPython->-r requirements.txt (line 6)) (0.2.2)\n",
      "Requirement already satisfied: executing>=1.2.0 in /home/codespace/.local/lib/python3.10/site-packages (from stack-data->IPython->-r requirements.txt (line 6)) (1.2.0)\n",
      "Requirement already satisfied: asttokens>=2.1.0 in /home/codespace/.local/lib/python3.10/site-packages (from stack-data->IPython->-r requirements.txt (line 6)) (2.2.1)\n",
      "Requirement already satisfied: MarkupSafe>=2.0 in /home/codespace/.local/lib/python3.10/site-packages (from jinja2->torch>=1.6.0->sentence-transformers->-r requirements.txt (line 7)) (2.1.2)\n",
      "Requirement already satisfied: urllib3<1.27,>=1.21.1 in /home/codespace/.local/lib/python3.10/site-packages (from requests->huggingface-hub>=0.4.0->sentence-transformers->-r requirements.txt (line 7)) (1.26.15)\n",
      "Requirement already satisfied: charset-normalizer<4,>=2 in /home/codespace/.local/lib/python3.10/site-packages (from requests->huggingface-hub>=0.4.0->sentence-transformers->-r requirements.txt (line 7)) (3.1.0)\n",
      "Requirement already satisfied: certifi>=2017.4.17 in /home/codespace/.local/lib/python3.10/site-packages (from requests->huggingface-hub>=0.4.0->sentence-transformers->-r requirements.txt (line 7)) (2022.12.7)\n",
      "Requirement already satisfied: idna<4,>=2.5 in /home/codespace/.local/lib/python3.10/site-packages (from requests->huggingface-hub>=0.4.0->sentence-transformers->-r requirements.txt (line 7)) (3.4)\n",
      "Requirement already satisfied: mpmath>=0.19 in /home/codespace/.local/lib/python3.10/site-packages (from sympy->torch>=1.6.0->sentence-transformers->-r requirements.txt (line 7)) (1.3.0)\n",
      "Note: you may need to restart the kernel to use updated packages.\n"
     ]
    }
   ],
   "source": [
    "%pip install -r requirements.txt #Install packages"
   ]
  },
  {
   "attachments": {},
   "cell_type": "markdown",
   "metadata": {},
   "source": [
    "## Import relevant Libraries or access Keys"
   ]
  },
  {
   "cell_type": "code",
   "execution_count": 2,
   "metadata": {},
   "outputs": [],
   "source": [
    "import re\n",
    "import pandas as pd\n",
    "from collections import Counter\n",
    "import matplotlib.pyplot as plt\n",
    "from collections import Counter\n",
    "from wordcloud import WordCloud, STOPWORDS\n",
    "pd.set_option('display.max_colwidth', None)"
   ]
  },
  {
   "attachments": {},
   "cell_type": "markdown",
   "metadata": {},
   "source": [
    "## `Data`\n",
    "### Import the data"
   ]
  },
  {
   "cell_type": "code",
   "execution_count": 3,
   "metadata": {},
   "outputs": [],
   "source": [
    "df = pd.read_csv(\"hatespeech tweets 2022.csv\")"
   ]
  },
  {
   "attachments": {},
   "cell_type": "markdown",
   "metadata": {},
   "source": [
    "### Basic data properties"
   ]
  },
  {
   "cell_type": "code",
   "execution_count": 4,
   "metadata": {},
   "outputs": [
    {
     "data": {
      "text/plain": [
       "(20000, 38)"
      ]
     },
     "execution_count": 4,
     "metadata": {},
     "output_type": "execute_result"
    }
   ],
   "source": [
    "df.shape"
   ]
  },
  {
   "attachments": {},
   "cell_type": "markdown",
   "metadata": {},
   "source": [
    "The data has 20000 tweets with 38 variables.\n",
    "\n",
    "A brief description of the data and the data types found in the data can be extracted by the function _`info()`_"
   ]
  },
  {
   "cell_type": "code",
   "execution_count": 5,
   "metadata": {},
   "outputs": [
    {
     "name": "stdout",
     "output_type": "stream",
     "text": [
      "<class 'pandas.core.frame.DataFrame'>\n",
      "RangeIndex: 20000 entries, 0 to 19999\n",
      "Data columns (total 38 columns):\n",
      " #   Column                 Non-Null Count  Dtype  \n",
      "---  ------                 --------------  -----  \n",
      " 0   Date                   20000 non-null  object \n",
      " 1   Headline               0 non-null      float64\n",
      " 2   URL                    20000 non-null  object \n",
      " 3   Opening Text           0 non-null      float64\n",
      " 4   Hit Sentence           20000 non-null  object \n",
      " 5   Source                 20000 non-null  object \n",
      " 6   Influencer             20000 non-null  object \n",
      " 7   Country                20000 non-null  object \n",
      " 8   Subregion              0 non-null      float64\n",
      " 9   Language               20000 non-null  object \n",
      " 10  Reach                  20000 non-null  int64  \n",
      " 11  Desktop Reach          20000 non-null  int64  \n",
      " 12  Mobile Reach           20000 non-null  int64  \n",
      " 13  Twitter Social Echo    0 non-null      float64\n",
      " 14  Facebook Social Echo   0 non-null      float64\n",
      " 15  Reddit Social Echo     0 non-null      float64\n",
      " 16  National Viewership    20000 non-null  int64  \n",
      " 17  Engagement             926 non-null    float64\n",
      " 18  AVE                    20000 non-null  float64\n",
      " 19  Sentiment              20000 non-null  object \n",
      " 20  Key Phrases            18674 non-null  object \n",
      " 21  Input Name             20000 non-null  object \n",
      " 22  Keywords               20000 non-null  object \n",
      " 23  Twitter Authority      19501 non-null  float64\n",
      " 24  Tweet Id               20000 non-null  object \n",
      " 25  Twitter Id             20000 non-null  object \n",
      " 26  Twitter Client         20000 non-null  object \n",
      " 27  Twitter Screen Name    19998 non-null  object \n",
      " 28  User Profile Url       20000 non-null  object \n",
      " 29  Twitter Bio            16365 non-null  object \n",
      " 30  Twitter Followers      19861 non-null  float64\n",
      " 31  Twitter Following      19961 non-null  float64\n",
      " 32  Alternate Date Format  20000 non-null  object \n",
      " 33  Time                   20000 non-null  object \n",
      " 34  State                  8978 non-null   object \n",
      " 35  City                   8568 non-null   object \n",
      " 36  Document Tags          0 non-null      float64\n",
      " 37  Views                  3 non-null      float64\n",
      "dtypes: float64(13), int64(4), object(21)\n",
      "memory usage: 5.8+ MB\n"
     ]
    }
   ],
   "source": [
    "df.info()"
   ]
  },
  {
   "attachments": {},
   "cell_type": "markdown",
   "metadata": {},
   "source": [
    "Since we would like to determine 'why the content shared' lets look at the consentiments and the content shared and there sentiments:"
   ]
  },
  {
   "cell_type": "code",
   "execution_count": 6,
   "metadata": {},
   "outputs": [
    {
     "data": {
      "text/html": [
       "<div>\n",
       "<style scoped>\n",
       "    .dataframe tbody tr th:only-of-type {\n",
       "        vertical-align: middle;\n",
       "    }\n",
       "\n",
       "    .dataframe tbody tr th {\n",
       "        vertical-align: top;\n",
       "    }\n",
       "\n",
       "    .dataframe thead th {\n",
       "        text-align: right;\n",
       "    }\n",
       "</style>\n",
       "<table border=\"1\" class=\"dataframe\">\n",
       "  <thead>\n",
       "    <tr style=\"text-align: right;\">\n",
       "      <th></th>\n",
       "      <th>Hit Sentence</th>\n",
       "      <th>Sentiment</th>\n",
       "    </tr>\n",
       "  </thead>\n",
       "  <tbody>\n",
       "    <tr>\n",
       "      <th>0</th>\n",
       "      <td>RT @julius_muiruri: Hatupangwingwi. ; Consumers will be hit by an electricity price shock in January 2023 as the subsidy which retired president Uhuru Kenyatta initiated is dropped. https://t.co/dt6jEfQruY</td>\n",
       "      <td>Negative</td>\n",
       "    </tr>\n",
       "    <tr>\n",
       "      <th>1</th>\n",
       "      <td>RT @julius_muiruri: Hatupangwingwi. ; Consumers will be hit by an electricity price shock in January 2023 as the subsidy which retired president Uhuru Kenyatta initiated is dropped. https://t.co/dt6jEfQruY</td>\n",
       "      <td>Negative</td>\n",
       "    </tr>\n",
       "    <tr>\n",
       "      <th>2</th>\n",
       "      <td>QT @OmKaYoo: so? ; Twitter feed today is filled with skid and ruto being horny, mouth watering over breaking bad, or getting pissed at and threatening to hurt/kill absolutely nobody</td>\n",
       "      <td>Negative</td>\n",
       "    </tr>\n",
       "    <tr>\n",
       "      <th>3</th>\n",
       "      <td>@NjiruAdv @rigathi @WilliamsRuto Bitterness will kill this \"Black Bull\" @NjiruAdv. What did Riggy G and Samoei son of Ruto ever do to you other than beating your candidates, great grandpa @RailaOdinga and grandma @MarthaKarua hands down? Continued barking doesn't add you cleints; Actual working does!</td>\n",
       "      <td>Negative</td>\n",
       "    </tr>\n",
       "    <tr>\n",
       "      <th>4</th>\n",
       "      <td>RT @julius_muiruri: Hatupangwingwi. ; Consumers will be hit by an electricity price shock in January 2023 as the subsidy which retired president Uhuru Kenyatta initiated is dropped. https://t.co/dt6jEfQruY</td>\n",
       "      <td>Negative</td>\n",
       "    </tr>\n",
       "    <tr>\n",
       "      <th>...</th>\n",
       "      <td>...</td>\n",
       "      <td>...</td>\n",
       "    </tr>\n",
       "    <tr>\n",
       "      <th>19995</th>\n",
       "      <td>@WilliamsRuto We believe as team UDA that Kenya is greater and speaks louder than any other self-proclaimed opposition president whose political interests are based on thwarfting upcoming young politicians@ Raila's followers are blind to see that they are being used kill abilities.........</td>\n",
       "      <td>Negative</td>\n",
       "    </tr>\n",
       "    <tr>\n",
       "      <th>19996</th>\n",
       "      <td>RT @joekaranja91: PRESIDENT Uhuru Kenyatta has asked the GEMA community to remember just one thing he has done for them. Personally I'll never forget how the KRA and KPA delays led to the collapse of my business. I'll not forget how per cbm prices were doubled to kill our investment.</td>\n",
       "      <td>Negative</td>\n",
       "    </tr>\n",
       "    <tr>\n",
       "      <th>19997</th>\n",
       "      <td>RT @joekaranja91: PRESIDENT Uhuru Kenyatta has asked the GEMA community to remember just one thing he has done for them. Personally I'll never forget how the KRA and KPA delays led to the collapse of my business. I'll not forget how per cbm prices were doubled to kill our investment.</td>\n",
       "      <td>Negative</td>\n",
       "    </tr>\n",
       "    <tr>\n",
       "      <th>19998</th>\n",
       "      <td>@AldrinSimbaa @LochRapemo @MosesMw10357761 @MutahiNgunyi Depression will kill you guys cz you can't keep on telling Kenyans...is our freedom fighter yet he has no record of such.I know raila as a very selfish person I mean he can't share anything maybe if that one thing is for his personal gain anything else</td>\n",
       "      <td>Negative</td>\n",
       "    </tr>\n",
       "    <tr>\n",
       "      <th>19999</th>\n",
       "      <td>@rono847123001 @EllyOuko5 @RobertAlai There are many young and able leaders like kina Tuju and Kidero but Raila chose to kill their dreams. Wacha akule ujeuri yake.</td>\n",
       "      <td>Neutral</td>\n",
       "    </tr>\n",
       "  </tbody>\n",
       "</table>\n",
       "<p>20000 rows × 2 columns</p>\n",
       "</div>"
      ],
      "text/plain": [
       "                                                                                                                                                                                                                                                                                                                Hit Sentence   \n",
       "0                                                                                                              RT @julius_muiruri: Hatupangwingwi. ; Consumers will be hit by an electricity price shock in January 2023 as the subsidy which retired president Uhuru Kenyatta initiated is dropped. https://t.co/dt6jEfQruY  \\\n",
       "1                                                                                                              RT @julius_muiruri: Hatupangwingwi. ; Consumers will be hit by an electricity price shock in January 2023 as the subsidy which retired president Uhuru Kenyatta initiated is dropped. https://t.co/dt6jEfQruY   \n",
       "2                                                                                                                                      QT @OmKaYoo: so? ; Twitter feed today is filled with skid and ruto being horny, mouth watering over breaking bad, or getting pissed at and threatening to hurt/kill absolutely nobody   \n",
       "3              @NjiruAdv @rigathi @WilliamsRuto Bitterness will kill this \"Black Bull\" @NjiruAdv. What did Riggy G and Samoei son of Ruto ever do to you other than beating your candidates, great grandpa @RailaOdinga and grandma @MarthaKarua hands down? Continued barking doesn't add you cleints; Actual working does!   \n",
       "4                                                                                                              RT @julius_muiruri: Hatupangwingwi. ; Consumers will be hit by an electricity price shock in January 2023 as the subsidy which retired president Uhuru Kenyatta initiated is dropped. https://t.co/dt6jEfQruY   \n",
       "...                                                                                                                                                                                                                                                                                                                      ...   \n",
       "19995                     @WilliamsRuto We believe as team UDA that Kenya is greater and speaks louder than any other self-proclaimed opposition president whose political interests are based on thwarfting upcoming young politicians@ Raila's followers are blind to see that they are being used kill abilities.........   \n",
       "19996                           RT @joekaranja91: PRESIDENT Uhuru Kenyatta has asked the GEMA community to remember just one thing he has done for them. Personally I'll never forget how the KRA and KPA delays led to the collapse of my business. I'll not forget how per cbm prices were doubled to kill our investment.   \n",
       "19997                           RT @joekaranja91: PRESIDENT Uhuru Kenyatta has asked the GEMA community to remember just one thing he has done for them. Personally I'll never forget how the KRA and KPA delays led to the collapse of my business. I'll not forget how per cbm prices were doubled to kill our investment.   \n",
       "19998  @AldrinSimbaa @LochRapemo @MosesMw10357761 @MutahiNgunyi Depression will kill you guys cz you can't keep on telling Kenyans...is our freedom fighter yet he has no record of such.I know raila as a very selfish person I mean he can't share anything maybe if that one thing is for his personal gain anything else   \n",
       "19999                                                                                                                                                   @rono847123001 @EllyOuko5 @RobertAlai There are many young and able leaders like kina Tuju and Kidero but Raila chose to kill their dreams. Wacha akule ujeuri yake.   \n",
       "\n",
       "      Sentiment  \n",
       "0      Negative  \n",
       "1      Negative  \n",
       "2      Negative  \n",
       "3      Negative  \n",
       "4      Negative  \n",
       "...         ...  \n",
       "19995  Negative  \n",
       "19996  Negative  \n",
       "19997  Negative  \n",
       "19998  Negative  \n",
       "19999   Neutral  \n",
       "\n",
       "[20000 rows x 2 columns]"
      ]
     },
     "execution_count": 6,
     "metadata": {},
     "output_type": "execute_result"
    }
   ],
   "source": [
    "df[['Hit Sentence', 'Sentiment']]"
   ]
  },
  {
   "attachments": {},
   "cell_type": "markdown",
   "metadata": {},
   "source": [
    "You will observe that from an overview we have most retweets with negative sentiments.\n",
    "\n",
    "One major focus of the analysis is natural language processing where we focus of the tweets content in determining similarities in sharing of original content.\n",
    "\n",
    "For starters let's rename the 'Hit Sentence' to tweet and Influencer to target:"
   ]
  },
  {
   "cell_type": "code",
   "execution_count": 7,
   "metadata": {},
   "outputs": [],
   "source": [
    "df.rename(columns={'Hit Sentence' :'tweet'},inplace=True)\n",
    "df.rename(columns={'Influencer' :'target'},inplace=True)"
   ]
  },
  {
   "attachments": {},
   "cell_type": "markdown",
   "metadata": {},
   "source": [
    "## `Language Analysis`\n",
    "### Original Tweets\n",
    "While there are 20000 tweets how many original tweets do we have? These are the tweeets that do not have the phrase \"RT\"  to signify \"retweeted\" or \"QT\" for quoted tweets."
   ]
  },
  {
   "cell_type": "code",
   "execution_count": 8,
   "metadata": {},
   "outputs": [
    {
     "data": {
      "text/plain": [
       "(3512, 38)"
      ]
     },
     "execution_count": 8,
     "metadata": {},
     "output_type": "execute_result"
    }
   ],
   "source": [
    "# Drop retweets\n",
    "original_tweets = df[df[\"tweet\"].str.startswith(\"RT\") == False]\n",
    "\n",
    "# Drop quoted tweets\n",
    "original_tweets = original_tweets[original_tweets[\"tweet\"].str.startswith(\"QT\") == False]\n",
    "\n",
    "# Original tweets\n",
    "original_shape = original_tweets.shape\n",
    "original_shape"
   ]
  },
  {
   "attachments": {},
   "cell_type": "markdown",
   "metadata": {},
   "source": [
    "**Result:** There are 3512 original tweets from 20000 tweets.\n",
    "\n",
    "This could only mean that the 3512 tweets could have been retweeted multiple times.\n",
    "\n",
    "The question is why? And is there a network of accounts meant to only retweet contents of a particular account?\n",
    "Also are the accounts retweeting this content real people or are they bots?\n",
    "\n",
    "### Unique Accounts\n",
    "Of the 3512 original tweets, how many unique users to we have?"
   ]
  },
  {
   "cell_type": "code",
   "execution_count": 9,
   "metadata": {},
   "outputs": [
    {
     "data": {
      "text/plain": [
       "2626"
      ]
     },
     "execution_count": 9,
     "metadata": {},
     "output_type": "execute_result"
    }
   ],
   "source": [
    "# Number of unique accounts\n",
    "original_tweets['target'].nunique()"
   ]
  },
  {
   "attachments": {},
   "cell_type": "markdown",
   "metadata": {},
   "source": [
    "The data contains 2626 unique users who shared content with hatespeech words.\n",
    "\n",
    "### Keyword Search\n",
    "One of the hatespeech words used and flagged by the NCIC during the elction period is the phrase \"**_kill_**\".\n",
    "\n",
    "How many original tweets used this phrase in their content?"
   ]
  },
  {
   "cell_type": "code",
   "execution_count": 10,
   "metadata": {},
   "outputs": [
    {
     "name": "stdout",
     "output_type": "stream",
     "text": [
      "(2337, 38)\n",
      "The percentage is: 66.54328018223235 %\n"
     ]
    }
   ],
   "source": [
    "df_kill_original = original_tweets[original_tweets[\"tweet\"].str.contains(\"kill\")]\n",
    "keyword_shape = df_kill_original.shape\n",
    "print(keyword_shape)\n",
    "\n",
    "\n",
    "percentage = (keyword_shape[0]/original_shape[0]) * 100\n",
    "print(\"The percentage is:\", percentage, \"%\")\n"
   ]
  },
  {
   "attachments": {},
   "cell_type": "markdown",
   "metadata": {},
   "source": [
    "Note that 2337 of 3512 tweets used the phrase \"**_kill_**\". This is 66% of all the tweet\n",
    "\n",
    "Why are 2337 people using a single word in their tweets? What is the impact of the same?\n",
    "\n",
    "### Quoted Tweets\n",
    "These are tweets that begin with the phrase \"QT\". How many are there that have the phrase \"**_kill_**\"?"
   ]
  },
  {
   "cell_type": "code",
   "execution_count": 11,
   "metadata": {},
   "outputs": [
    {
     "data": {
      "text/plain": [
       "(1077, 38)"
      ]
     },
     "execution_count": 11,
     "metadata": {},
     "output_type": "execute_result"
    }
   ],
   "source": [
    "quoted_tweets = df[df[\"tweet\"].str.startswith(\"QT\") == True]\n",
    "df_kill_quoted = quoted_tweets[quoted_tweets[\"tweet\"].str.contains(\"kill\")]\n",
    "df_kill_quoted.shape"
   ]
  },
  {
   "attachments": {},
   "cell_type": "markdown",
   "metadata": {},
   "source": [
    "There are 1077 quoted tweets with the phrase kill.\n",
    "\n",
    "### Retweets\n",
    "On Twitter, this is one of the major ways that accounts use to amplify content."
   ]
  },
  {
   "cell_type": "code",
   "execution_count": 12,
   "metadata": {},
   "outputs": [
    {
     "name": "stdout",
     "output_type": "stream",
     "text": [
      "(14952, 38)\n",
      "The Retweeted percentage is: 74.76 %\n",
      "The Quoted percentage is: 7.68 %\n",
      "The Original percentage is: 17.560000000000002 %\n"
     ]
    }
   ],
   "source": [
    "retweeted_tweets = df[df[\"tweet\"].str.startswith(\"RT\") == True]\n",
    "print(retweeted_tweets.shape)\n",
    "\n",
    "# Retweeted content\n",
    "percentage = (retweeted_tweets.shape[0]/df.shape[0]) * 100\n",
    "print(\"The Retweeted percentage is:\", percentage, \"%\")\n",
    "\n",
    "# Quoted content\n",
    "percentage = (quoted_tweets.shape[0]/df.shape[0]) * 100\n",
    "print(\"The Quoted percentage is:\", percentage, \"%\")\n",
    "\n",
    "original_tweets.shape\n",
    "# Quoted content\n",
    "percentage = (original_tweets.shape[0]/df.shape[0]) * 100\n",
    "print(\"The Original percentage is:\", percentage, \"%\")"
   ]
  },
  {
   "attachments": {},
   "cell_type": "markdown",
   "metadata": {},
   "source": [
    "There area 14952 retweets. \n",
    "\n",
    "From this sample we can conclude that 75% of content in Twiiter has been amplified through retweeting and only 17% of the Tweets are original.\n",
    "\n",
    "### WordCloud\n",
    "Let's define the words that highly used in the tweet."
   ]
  },
  {
   "cell_type": "code",
   "execution_count": 13,
   "metadata": {},
   "outputs": [],
   "source": [
    "content_df = df.tweet\n",
    "content_df.str.lower()\n",
    "content_df = content_df.str.split(' ')\n",
    "\n",
    "\n",
    "all_tweets_cleaned = []\n",
    "\n",
    "for text in content_df:\n",
    "    all_tweets_cleaned.append(text)\n",
    "\n",
    "all_tweets_cleaned[0]\n",
    "text_tweet = [\" \".join(text) for text in all_tweets_cleaned]\n",
    "final_text_tweet = \" \".join(text_tweet)"
   ]
  },
  {
   "cell_type": "code",
   "execution_count": 14,
   "metadata": {},
   "outputs": [],
   "source": [
    "Tweet_Texts_Cleaned = final_text_tweet.lower()\n",
    "Tweet_Texts_Cleaned=re.sub(r'@\\w+', ' ', Tweet_Texts_Cleaned)\n",
    "Tweet_Texts_Cleaned=re.sub(r'http\\S+', ' ', Tweet_Texts_Cleaned)\n",
    "Tweet_Texts_Cleaned = re.sub(r'[^a-z A-Z]', ' ',Tweet_Texts_Cleaned)\n",
    "Tweet_Texts_Cleaned= re.sub(r'\\b\\w{1,4}\\b', '', Tweet_Texts_Cleaned)\n",
    "Tweet_Texts_Cleaned= re.sub(r' +', ' ', Tweet_Texts_Cleaned)"
   ]
  },
  {
   "cell_type": "code",
   "execution_count": 15,
   "metadata": {},
   "outputs": [
    {
     "data": {
      "text/plain": [
       "[('president', 8407),\n",
       " ('uhuru', 7563),\n",
       " ('kenyans', 4875),\n",
       " ('kenya', 4700),\n",
       " ('power', 4344),\n",
       " ('raila', 3805),\n",
       " ('kenyatta', 3742),\n",
       " ('after', 3442),\n",
       " ('william', 3271),\n",
       " ('eliminate', 3269),\n",
       " ('government', 2886),\n",
       " ('former', 2751),\n",
       " ('people', 2673),\n",
       " ('despot', 2369),\n",
       " ('killed', 2287),\n",
       " ('think', 2280),\n",
       " ('office', 2240),\n",
       " ('killing', 2167),\n",
       " ('world', 2145),\n",
       " ('official', 2144)]"
      ]
     },
     "execution_count": 15,
     "metadata": {},
     "output_type": "execute_result"
    }
   ],
   "source": [
    "split_it = Tweet_Texts_Cleaned.split()\n",
    "resulting_count = Counter(split_it)\n",
    "  \n",
    "# most_common() produces k frequently encountered\n",
    "# input values and their respective counts.\n",
    "most_occur = resulting_count.most_common(20)\n",
    "\n",
    "most_occur"
   ]
  },
  {
   "cell_type": "code",
   "execution_count": 16,
   "metadata": {},
   "outputs": [],
   "source": [
    "most_occur = [tup[0] for tup in most_occur]\n",
    "most_occur = str(most_occur)"
   ]
  },
  {
   "cell_type": "code",
   "execution_count": 17,
   "metadata": {},
   "outputs": [],
   "source": [
    "# Creating the custom stopwords\n",
    "customStopwords=list(STOPWORDS)\n",
    " \n",
    "wordcloudimage = WordCloud(\n",
    "                          max_words=100,\n",
    "                          max_font_size=500,\n",
    "                          font_step=2,\n",
    "                          stopwords=customStopwords,\n",
    "                          background_color='white',\n",
    "                          width=1000,\n",
    "                          height=720\n",
    "                          ).generate(most_occur)"
   ]
  },
  {
   "cell_type": "code",
   "execution_count": 18,
   "metadata": {},
   "outputs": [
    {
     "data": {
      "image/png": "[encoded data removed]",
      "text/plain": [
       "<Figure size 1500x500 with 1 Axes>"
      ]
     },
     "metadata": {},
     "output_type": "display_data"
    }
   ],
   "source": [
    "plt.figure(figsize=(15,5))\n",
    "plt.axis(\"off\")\n",
    "plt.imshow(wordcloudimage)\n",
    "wordcloudimage\n",
    "plt.show()"
   ]
  },
  {
   "attachments": {},
   "cell_type": "markdown",
   "metadata": {},
   "source": [
    "From the result above it is true that hatespech tweets druring the election were associated with the two presidential candidates i.e Raila Odinga and William Ruto.\n",
    "\n",
    "Synonimous word kill including \"eliminate\", \"killing\" and \"killed\" were also used in tweets.\n",
    "\n",
    "## `Sentimental Analysis`\n",
    "Let's analyse the sentiments of tweets:"
   ]
  },
  {
   "cell_type": "code",
   "execution_count": 19,
   "metadata": {},
   "outputs": [
    {
     "data": {
      "text/plain": [
       "Sentiment\n",
       "Negative    11341\n",
       "Positive     2127\n",
       "Name: count, dtype: int64"
      ]
     },
     "execution_count": 19,
     "metadata": {},
     "output_type": "execute_result"
    }
   ],
   "source": [
    "df_sen = df[df['Sentiment'].isin(['Positive', 'Negative'])]\n",
    "df_sen['Sentiment'].value_counts()"
   ]
  },
  {
   "attachments": {},
   "cell_type": "markdown",
   "metadata": {},
   "source": [
    "Most of the tweets that had hatespeech phrases have negative sentiments.\n",
    "This is as expected since hatespeech involves demeaning a party. Why is another reason.\n",
    "\n",
    "## `Retweet Analysis`\n",
    "Here one can determine networks of amplification that make tweets and hashtags trend:"
   ]
  },
  {
   "cell_type": "code",
   "execution_count": 20,
   "metadata": {},
   "outputs": [],
   "source": [
    "Retweeted=df['tweet'].str.extract(r'(RT @\\w+)')\n",
    "df['Source'] = Retweeted\n",
    "df['Source'] = df['Source'].apply(lambda x: str(x).replace('RT ', ''))\n",
    "df.rename(columns={'Source' :'source'},inplace=True)"
   ]
  },
  {
   "cell_type": "code",
   "execution_count": 21,
   "metadata": {},
   "outputs": [],
   "source": [
    "#standardize usernames\n",
    "df['source'] = df['source'].apply(lambda x: str(x).lower())\n",
    "df['target'] = df['target'].apply(lambda x: str(x).lower())"
   ]
  },
  {
   "attachments": {},
   "cell_type": "markdown",
   "metadata": {},
   "source": [
    "### Top retweeted accounts: The accounts that received the most number of retweets "
   ]
  },
  {
   "cell_type": "code",
   "execution_count": 22,
   "metadata": {},
   "outputs": [
    {
     "data": {
      "text/html": [
       "<div>\n",
       "<style scoped>\n",
       "    .dataframe tbody tr th:only-of-type {\n",
       "        vertical-align: middle;\n",
       "    }\n",
       "\n",
       "    .dataframe tbody tr th {\n",
       "        vertical-align: top;\n",
       "    }\n",
       "\n",
       "    .dataframe thead th {\n",
       "        text-align: right;\n",
       "    }\n",
       "</style>\n",
       "<table border=\"1\" class=\"dataframe\">\n",
       "  <thead>\n",
       "    <tr style=\"text-align: right;\">\n",
       "      <th></th>\n",
       "      <th>target</th>\n",
       "      <th>Twitter Screen Name</th>\n",
       "      <th>Twitter Followers</th>\n",
       "      <th>User Profile Url</th>\n",
       "      <th>Country</th>\n",
       "      <th>Sentiment</th>\n",
       "      <th>Retweets</th>\n",
       "    </tr>\n",
       "  </thead>\n",
       "  <tbody>\n",
       "    <tr>\n",
       "      <th>80</th>\n",
       "      <td>@migunamiguna</td>\n",
       "      <td>Dr. Miguna Miguna</td>\n",
       "      <td>2297720.0</td>\n",
       "      <td>http://www.twitter.com/MigunaMiguna</td>\n",
       "      <td>Unknown</td>\n",
       "      <td>Negative</td>\n",
       "      <td>1983</td>\n",
       "    </tr>\n",
       "    <tr>\n",
       "      <th>4525</th>\n",
       "      <td>@ahmednasirlaw</td>\n",
       "      <td>Ahmednasir Abdullahi SC</td>\n",
       "      <td>1993938.0</td>\n",
       "      <td>http://www.twitter.com/ahmednasirlaw</td>\n",
       "      <td>Kenya</td>\n",
       "      <td>Negative</td>\n",
       "      <td>1949</td>\n",
       "    </tr>\n",
       "    <tr>\n",
       "      <th>18719</th>\n",
       "      <td>@thriving_luos</td>\n",
       "      <td>DHOLUO DICTIONARY</td>\n",
       "      <td>17206.0</td>\n",
       "      <td>http://www.twitter.com/Thriving_luos</td>\n",
       "      <td>Kenya</td>\n",
       "      <td>Positive</td>\n",
       "      <td>852</td>\n",
       "    </tr>\n",
       "    <tr>\n",
       "      <th>826</th>\n",
       "      <td>@citizentvkenya</td>\n",
       "      <td>Citizen TV Kenya</td>\n",
       "      <td>4921269.0</td>\n",
       "      <td>http://www.twitter.com/citizentvkenya</td>\n",
       "      <td>Kenya</td>\n",
       "      <td>Neutral</td>\n",
       "      <td>546</td>\n",
       "    </tr>\n",
       "    <tr>\n",
       "      <th>13886</th>\n",
       "      <td>@itsmutai</td>\n",
       "      <td>Lord Abraham Mutai</td>\n",
       "      <td>715137.0</td>\n",
       "      <td>http://www.twitter.com/ItsMutai</td>\n",
       "      <td>Kenya</td>\n",
       "      <td>Negative</td>\n",
       "      <td>537</td>\n",
       "    </tr>\n",
       "    <tr>\n",
       "      <th>2814</th>\n",
       "      <td>@gabrieloguda</td>\n",
       "      <td>Gabriel Oguda</td>\n",
       "      <td>518585.0</td>\n",
       "      <td>http://www.twitter.com/gabrieloguda</td>\n",
       "      <td>Kenya</td>\n",
       "      <td>Neutral</td>\n",
       "      <td>489</td>\n",
       "    </tr>\n",
       "    <tr>\n",
       "      <th>5153</th>\n",
       "      <td>@dan_nyagah</td>\n",
       "      <td>Dan Nyagah</td>\n",
       "      <td>64039.0</td>\n",
       "      <td>http://www.twitter.com/dan_nyagah</td>\n",
       "      <td>Unknown</td>\n",
       "      <td>Negative</td>\n",
       "      <td>429</td>\n",
       "    </tr>\n",
       "    <tr>\n",
       "      <th>1006</th>\n",
       "      <td>@nahashonkimemia</td>\n",
       "      <td>Nahashon Kimemia</td>\n",
       "      <td>94248.0</td>\n",
       "      <td>http://www.twitter.com/NahashonKimemia</td>\n",
       "      <td>Kenya</td>\n",
       "      <td>Negative</td>\n",
       "      <td>392</td>\n",
       "    </tr>\n",
       "    <tr>\n",
       "      <th>5494</th>\n",
       "      <td>@mondayomoaigbe</td>\n",
       "      <td>@mondayomoaigbe</td>\n",
       "      <td>7870.0</td>\n",
       "      <td>http://www.twitter.com/mondayomoaigbe</td>\n",
       "      <td>Unknown</td>\n",
       "      <td>Negative</td>\n",
       "      <td>375</td>\n",
       "    </tr>\n",
       "    <tr>\n",
       "      <th>9771</th>\n",
       "      <td>@davidkevindw3</td>\n",
       "      <td>David Kevin</td>\n",
       "      <td>1771.0</td>\n",
       "      <td>http://www.twitter.com/DavidKevinDw3</td>\n",
       "      <td>United States</td>\n",
       "      <td>Neutral</td>\n",
       "      <td>309</td>\n",
       "    </tr>\n",
       "    <tr>\n",
       "      <th>8814</th>\n",
       "      <td>@nyar_asego</td>\n",
       "      <td>Atieno Nyar Asego</td>\n",
       "      <td>7004.0</td>\n",
       "      <td>http://www.twitter.com/nyar_asego</td>\n",
       "      <td>Kenya</td>\n",
       "      <td>Negative</td>\n",
       "      <td>260</td>\n",
       "    </tr>\n",
       "  </tbody>\n",
       "</table>\n",
       "</div>"
      ],
      "text/plain": [
       "                 target      Twitter Screen Name  Twitter Followers   \n",
       "80        @migunamiguna        Dr. Miguna Miguna          2297720.0  \\\n",
       "4525     @ahmednasirlaw  Ahmednasir Abdullahi SC          1993938.0   \n",
       "18719    @thriving_luos        DHOLUO DICTIONARY            17206.0   \n",
       "826     @citizentvkenya         Citizen TV Kenya          4921269.0   \n",
       "13886         @itsmutai       Lord Abraham Mutai           715137.0   \n",
       "2814      @gabrieloguda            Gabriel Oguda           518585.0   \n",
       "5153        @dan_nyagah               Dan Nyagah            64039.0   \n",
       "1006   @nahashonkimemia         Nahashon Kimemia            94248.0   \n",
       "5494    @mondayomoaigbe          @mondayomoaigbe             7870.0   \n",
       "9771     @davidkevindw3              David Kevin             1771.0   \n",
       "8814        @nyar_asego        Atieno Nyar Asego             7004.0   \n",
       "\n",
       "                             User Profile Url        Country Sentiment   \n",
       "80        http://www.twitter.com/MigunaMiguna        Unknown  Negative  \\\n",
       "4525     http://www.twitter.com/ahmednasirlaw          Kenya  Negative   \n",
       "18719    http://www.twitter.com/Thriving_luos          Kenya  Positive   \n",
       "826     http://www.twitter.com/citizentvkenya          Kenya   Neutral   \n",
       "13886         http://www.twitter.com/ItsMutai          Kenya  Negative   \n",
       "2814      http://www.twitter.com/gabrieloguda          Kenya   Neutral   \n",
       "5153        http://www.twitter.com/dan_nyagah        Unknown  Negative   \n",
       "1006   http://www.twitter.com/NahashonKimemia          Kenya  Negative   \n",
       "5494    http://www.twitter.com/mondayomoaigbe        Unknown  Negative   \n",
       "9771     http://www.twitter.com/DavidKevinDw3  United States   Neutral   \n",
       "8814        http://www.twitter.com/nyar_asego          Kenya  Negative   \n",
       "\n",
       "       Retweets  \n",
       "80         1983  \n",
       "4525       1949  \n",
       "18719       852  \n",
       "826         546  \n",
       "13886       537  \n",
       "2814        489  \n",
       "5153        429  \n",
       "1006        392  \n",
       "5494        375  \n",
       "9771        309  \n",
       "8814        260  "
      ]
     },
     "execution_count": 22,
     "metadata": {},
     "output_type": "execute_result"
    }
   ],
   "source": [
    "top_retweeted_accs = list(df['source'].value_counts()[1:12].keys())\n",
    "_influencers = df[df['target'].isin(top_retweeted_accs)][\n",
    "    ['target','Twitter Screen Name','Twitter Followers','User Profile Url','Country','Sentiment']\n",
    "]\n",
    "_influencers.drop_duplicates(subset=['target'],keep='first', inplace=True)\n",
    "\n",
    "# add count of retweets \n",
    "retweet_count = dict(df['source'].value_counts()[1:12])\n",
    "_influencers['Retweets'] = _influencers['target'].replace(retweet_count)\n",
    "\n",
    "_influencers = _influencers.sort_values(by=['Retweets'],ascending=False)\n",
    "_influencers"
   ]
  },
  {
   "attachments": {},
   "cell_type": "markdown",
   "metadata": {},
   "source": [
    "The above shows the top ten accounts whose content recieved a lot of retweets. That is amplified by other Twitter users.\n",
    "\n",
    "#### Top Retweeted Tweets\n",
    "The top retweeted tweets include:"
   ]
  },
  {
   "cell_type": "code",
   "execution_count": 23,
   "metadata": {},
   "outputs": [
    {
     "data": {
      "text/html": [
       "<div>\n",
       "<style scoped>\n",
       "    .dataframe tbody tr th:only-of-type {\n",
       "        vertical-align: middle;\n",
       "    }\n",
       "\n",
       "    .dataframe tbody tr th {\n",
       "        vertical-align: top;\n",
       "    }\n",
       "\n",
       "    .dataframe thead th {\n",
       "        text-align: right;\n",
       "    }\n",
       "</style>\n",
       "<table border=\"1\" class=\"dataframe\">\n",
       "  <thead>\n",
       "    <tr style=\"text-align: right;\">\n",
       "      <th></th>\n",
       "      <th>Tweets</th>\n",
       "      <th>counts</th>\n",
       "    </tr>\n",
       "  </thead>\n",
       "  <tbody>\n",
       "    <tr>\n",
       "      <th>0</th>\n",
       "      <td>RT @ahmednasirlaw: When I used to tell Kenyans/world that former President Uhuru's Government used to kill Kenyans as an official governmental policy you used to think I was an alarmist. JACOB JUMA was Killed by this team after he left my office on that fateful day. I know who ordered his killing!</td>\n",
       "      <td>1610</td>\n",
       "    </tr>\n",
       "    <tr>\n",
       "      <th>1</th>\n",
       "      <td>RT @Thriving_luos: OGINGA TO Raila Odinga IN 1992 ‘’ I named you after my Mother , a good woman, remember three things and hold them , 1- Do not kill for power. I your Father I’m going to the grave empty handed because I refused to kill for power, if you have to kill in order to get power, refuse https://t.co/sqKkv3z4Vx</td>\n",
       "      <td>852</td>\n",
       "    </tr>\n",
       "    <tr>\n",
       "      <th>2</th>\n",
       "      <td>RT @MigunaMiguna: This is RUBBISH, @MutahiNgunyi. Stop lying. Despot Uhuru Kenyatta tried everything: speaking in his mother tongue, bribery, threats, torture and abductions to impose conman @RailaOdinga in power. He even sent SECURITY MANDARINS to threaten @WChebukati. Did you want him to kill? https://t.co/kB627RTgGG</td>\n",
       "      <td>551</td>\n",
       "    </tr>\n",
       "    <tr>\n",
       "      <th>3</th>\n",
       "      <td>RT @ItsMutai: Najib Balala was bribed with Ksh100million by NGOs to kill 11 rhinos. Some of us called for his resignation. Nothing happened. He called a press conference and literally told me, Lord Abraham Mutai \"Fvck you\". Now he wants to be RETAINED in President William Ruto's Gvt, laughable</td>\n",
       "      <td>537</td>\n",
       "    </tr>\n",
       "    <tr>\n",
       "      <th>4</th>\n",
       "      <td>RT @gabrieloguda: Nandi Senator Samson Cherargei is on my television claiming that maize cartels in the Ruto administration want to kill maize farming in Kenya. Semeni dynasty mbaya.</td>\n",
       "      <td>489</td>\n",
       "    </tr>\n",
       "    <tr>\n",
       "      <th>5</th>\n",
       "      <td>RT @MigunaMiguna: Despot Uhuru Kenyatta is so desperate to cling to power that he was - and still is - determined to plunge Kenya into civil strife and kill thousands of innocent civilians whose only crime was to have defied him and refused to vote for conman @RailaOdinga. We must STOP him.</td>\n",
       "      <td>487</td>\n",
       "    </tr>\n",
       "    <tr>\n",
       "      <th>6</th>\n",
       "      <td>RT @MigunaMiguna: Patriots and Freedom Fighters: Let us make sure we CRIPPLE despot Uhuru Kenyatta POLITICALLY and PERMANENTLY so that he cannot try another attempt to overthrow the WILL of the PEOPLE. Cut off his TENTACLES in MUNGIKI, KweKwe and MILITARY FORMATIONS. This is URGENT.</td>\n",
       "      <td>424</td>\n",
       "    </tr>\n",
       "    <tr>\n",
       "      <th>7</th>\n",
       "      <td>RT @MigunaMiguna: THE DESPOT'S CONUNDRUM 1. Despot Uhuru Kenyatta wants to use @mucheru's fake form 34As to have @WilliamsRuto's victory nullified. 2. But they know Ruto will defeat conman @RailaOdinga in fresh elections even if they kill all the IEBC ROs. Hence plan 3. To be exposed later.</td>\n",
       "      <td>393</td>\n",
       "    </tr>\n",
       "    <tr>\n",
       "      <th>8</th>\n",
       "      <td>RT @DavidKevinDw3: Dear @WilliamsRuto: In what sense of measure you’ve labeled #AbyiAhmed as genius?? Is that: 👉coz he invited foreign force of #Eri🇪🇷to eliminate Tigary ppl? 👉coz he put 7M the ppl under 2yrs old siege? 👉coz he is launching drone attacks on civilians &amp; #IDPs? @SecBlinken ; Prime Minister Abiy Ahmed is a genius leader and the people of Ethiopia are lucky - President Ruto https://t.co/1xyiWIjnWl</td>\n",
       "      <td>309</td>\n",
       "    </tr>\n",
       "    <tr>\n",
       "      <th>9</th>\n",
       "      <td>RT @citizentvkenya: Hustlers fund will not be free. It is money to be used for business activities &amp; you will have to repay this money. We will eliminate shylocks &amp; repayment will be less than 10% interest - President William Ruto https://t.co/li2oCIRQjG</td>\n",
       "      <td>293</td>\n",
       "    </tr>\n",
       "  </tbody>\n",
       "</table>\n",
       "</div>"
      ],
      "text/plain": [
       "                                                                                                                                                                                                                                                                                                                                                                                                                          Tweets   \n",
       "0                                                                                                                     RT @ahmednasirlaw: When I used to tell Kenyans/world that former President Uhuru's Government used to kill Kenyans as an official governmental policy you used to think I was an alarmist. JACOB JUMA was Killed by this team after he left my office on that fateful day. I know who ordered his killing!  \\\n",
       "1                                                                                              RT @Thriving_luos: OGINGA TO Raila Odinga IN 1992 ‘’ I named you after my Mother , a good woman, remember three things and hold them , 1- Do not kill for power. I your Father I’m going to the grave empty handed because I refused to kill for power, if you have to kill in order to get power, refuse https://t.co/sqKkv3z4Vx   \n",
       "2                                                                                               RT @MigunaMiguna: This is RUBBISH, @MutahiNgunyi. Stop lying. Despot Uhuru Kenyatta tried everything: speaking in his mother tongue, bribery, threats, torture and abductions to impose conman @RailaOdinga in power. He even sent SECURITY MANDARINS to threaten @WChebukati. Did you want him to kill? https://t.co/kB627RTgGG   \n",
       "3                                                                                                                         RT @ItsMutai: Najib Balala was bribed with Ksh100million by NGOs to kill 11 rhinos. Some of us called for his resignation. Nothing happened. He called a press conference and literally told me, Lord Abraham Mutai \"Fvck you\". Now he wants to be RETAINED in President William Ruto's Gvt, laughable   \n",
       "4                                                                                                                                                                                                                                         RT @gabrieloguda: Nandi Senator Samson Cherargei is on my television claiming that maize cartels in the Ruto administration want to kill maize farming in Kenya. Semeni dynasty mbaya.   \n",
       "5                                                                                                                            RT @MigunaMiguna: Despot Uhuru Kenyatta is so desperate to cling to power that he was - and still is - determined to plunge Kenya into civil strife and kill thousands of innocent civilians whose only crime was to have defied him and refused to vote for conman @RailaOdinga. We must STOP him.   \n",
       "6                                                                                                                                    RT @MigunaMiguna: Patriots and Freedom Fighters: Let us make sure we CRIPPLE despot Uhuru Kenyatta POLITICALLY and PERMANENTLY so that he cannot try another attempt to overthrow the WILL of the PEOPLE. Cut off his TENTACLES in MUNGIKI, KweKwe and MILITARY FORMATIONS. This is URGENT.   \n",
       "7                                                                                                                            RT @MigunaMiguna: THE DESPOT'S CONUNDRUM 1. Despot Uhuru Kenyatta wants to use @mucheru's fake form 34As to have @WilliamsRuto's victory nullified. 2. But they know Ruto will defeat conman @RailaOdinga in fresh elections even if they kill all the IEBC ROs. Hence plan 3. To be exposed later.   \n",
       "8  RT @DavidKevinDw3: Dear @WilliamsRuto: In what sense of measure you’ve labeled #AbyiAhmed as genius?? Is that: 👉coz he invited foreign force of #Eri🇪🇷to eliminate Tigary ppl? 👉coz he put 7M the ppl under 2yrs old siege? 👉coz he is launching drone attacks on civilians & #IDPs? @SecBlinken ; Prime Minister Abiy Ahmed is a genius leader and the people of Ethiopia are lucky - President Ruto https://t.co/1xyiWIjnWl   \n",
       "9                                                                                                                                                                 RT @citizentvkenya: Hustlers fund will not be free. It is money to be used for business activities & you will have to repay this money. We will eliminate shylocks & repayment will be less than 10% interest - President William Ruto https://t.co/li2oCIRQjG   \n",
       "\n",
       "   counts  \n",
       "0    1610  \n",
       "1     852  \n",
       "2     551  \n",
       "3     537  \n",
       "4     489  \n",
       "5     487  \n",
       "6     424  \n",
       "7     393  \n",
       "8     309  \n",
       "9     293  "
      ]
     },
     "execution_count": 23,
     "metadata": {},
     "output_type": "execute_result"
    }
   ],
   "source": [
    "df['tweet'].value_counts().rename_axis('Tweets').reset_index(name='counts')[:10]"
   ]
  },
  {
   "attachments": {},
   "cell_type": "markdown",
   "metadata": {},
   "source": [
    "### Top Accounts that posted original tweets in the network\n",
    "\n",
    "\n",
    "This section identifies the key accounts that posted original tweets. The aim is to understand who created most of the tweets or narratives."
   ]
  },
  {
   "cell_type": "code",
   "execution_count": 24,
   "metadata": {},
   "outputs": [
    {
     "data": {
      "text/html": [
       "<div>\n",
       "<style scoped>\n",
       "    .dataframe tbody tr th:only-of-type {\n",
       "        vertical-align: middle;\n",
       "    }\n",
       "\n",
       "    .dataframe tbody tr th {\n",
       "        vertical-align: top;\n",
       "    }\n",
       "\n",
       "    .dataframe thead th {\n",
       "        text-align: right;\n",
       "    }\n",
       "</style>\n",
       "<table border=\"1\" class=\"dataframe\">\n",
       "  <thead>\n",
       "    <tr style=\"text-align: right;\">\n",
       "      <th></th>\n",
       "      <th>target</th>\n",
       "      <th>Twitter Screen Name</th>\n",
       "      <th>Twitter Followers</th>\n",
       "      <th>User Profile Url</th>\n",
       "      <th>tweets_posted</th>\n",
       "    </tr>\n",
       "  </thead>\n",
       "  <tbody>\n",
       "    <tr>\n",
       "      <th>34</th>\n",
       "      <td>@nguthudennis</td>\n",
       "      <td>Atalanta BAIB</td>\n",
       "      <td>1354.0</td>\n",
       "      <td>http://www.twitter.com/NguthuDennis</td>\n",
       "      <td>44</td>\n",
       "    </tr>\n",
       "    <tr>\n",
       "      <th>241</th>\n",
       "      <td>@lloyd45478399</td>\n",
       "      <td>Baba Mboga</td>\n",
       "      <td>280.0</td>\n",
       "      <td>http://www.twitter.com/Lloyd45478399</td>\n",
       "      <td>27</td>\n",
       "    </tr>\n",
       "    <tr>\n",
       "      <th>670</th>\n",
       "      <td>@danielmagita</td>\n",
       "      <td>Daniel Magita</td>\n",
       "      <td>32.0</td>\n",
       "      <td>http://www.twitter.com/DanielMagita</td>\n",
       "      <td>22</td>\n",
       "    </tr>\n",
       "    <tr>\n",
       "      <th>31</th>\n",
       "      <td>@saidimusalim1</td>\n",
       "      <td>Saidimu Saidimu 🇰🇪🇺🇬🇹🇿</td>\n",
       "      <td>1097.0</td>\n",
       "      <td>http://www.twitter.com/saidimusalim1</td>\n",
       "      <td>17</td>\n",
       "    </tr>\n",
       "    <tr>\n",
       "      <th>1357</th>\n",
       "      <td>@vuma_trends</td>\n",
       "      <td>VUMA TRENDS</td>\n",
       "      <td>4489.0</td>\n",
       "      <td>http://www.twitter.com/vuma_trends</td>\n",
       "      <td>15</td>\n",
       "    </tr>\n",
       "    <tr>\n",
       "      <th>629</th>\n",
       "      <td>@sholla_saddam</td>\n",
       "      <td>Sholla</td>\n",
       "      <td>4891.0</td>\n",
       "      <td>http://www.twitter.com/sholla_saddam</td>\n",
       "      <td>14</td>\n",
       "    </tr>\n",
       "    <tr>\n",
       "      <th>3092</th>\n",
       "      <td>@bazengaake</td>\n",
       "      <td>Bazenga</td>\n",
       "      <td>2305.0</td>\n",
       "      <td>http://www.twitter.com/BazengaaKE</td>\n",
       "      <td>14</td>\n",
       "    </tr>\n",
       "    <tr>\n",
       "      <th>6054</th>\n",
       "      <td>@v_katama</td>\n",
       "      <td>Katama V. Naibei</td>\n",
       "      <td>1223.0</td>\n",
       "      <td>http://www.twitter.com/V_katama</td>\n",
       "      <td>14</td>\n",
       "    </tr>\n",
       "    <tr>\n",
       "      <th>21</th>\n",
       "      <td>@sharpsh05380877</td>\n",
       "      <td>Sharp Shooter</td>\n",
       "      <td>154.0</td>\n",
       "      <td>http://www.twitter.com/SharpSh05380877</td>\n",
       "      <td>13</td>\n",
       "    </tr>\n",
       "    <tr>\n",
       "      <th>650</th>\n",
       "      <td>@thekenyanpost</td>\n",
       "      <td>DAILY POST</td>\n",
       "      <td>53907.0</td>\n",
       "      <td>http://www.twitter.com/TheKenyanPost</td>\n",
       "      <td>12</td>\n",
       "    </tr>\n",
       "  </tbody>\n",
       "</table>\n",
       "</div>"
      ],
      "text/plain": [
       "                target     Twitter Screen Name  Twitter Followers   \n",
       "34       @nguthudennis           Atalanta BAIB             1354.0  \\\n",
       "241     @lloyd45478399              Baba Mboga              280.0   \n",
       "670      @danielmagita           Daniel Magita               32.0   \n",
       "31      @saidimusalim1  Saidimu Saidimu 🇰🇪🇺🇬🇹🇿             1097.0   \n",
       "1357      @vuma_trends             VUMA TRENDS             4489.0   \n",
       "629     @sholla_saddam                  Sholla             4891.0   \n",
       "3092       @bazengaake                 Bazenga             2305.0   \n",
       "6054         @v_katama        Katama V. Naibei             1223.0   \n",
       "21    @sharpsh05380877           Sharp Shooter              154.0   \n",
       "650     @thekenyanpost              DAILY POST            53907.0   \n",
       "\n",
       "                            User Profile Url  tweets_posted  \n",
       "34       http://www.twitter.com/NguthuDennis             44  \n",
       "241     http://www.twitter.com/Lloyd45478399             27  \n",
       "670      http://www.twitter.com/DanielMagita             22  \n",
       "31      http://www.twitter.com/saidimusalim1             17  \n",
       "1357      http://www.twitter.com/vuma_trends             15  \n",
       "629     http://www.twitter.com/sholla_saddam             14  \n",
       "3092       http://www.twitter.com/BazengaaKE             14  \n",
       "6054         http://www.twitter.com/V_katama             14  \n",
       "21    http://www.twitter.com/SharpSh05380877             13  \n",
       "650     http://www.twitter.com/TheKenyanPost             12  "
      ]
     },
     "execution_count": 24,
     "metadata": {},
     "output_type": "execute_result"
    }
   ],
   "source": [
    "#get original data\n",
    "No_Retweets=df[df['tweet'].str.contains('RT')== False]\n",
    "original=No_Retweets[~No_Retweets['tweet'].str.contains('QT')]\n",
    "\n",
    "top_seeder_accs = list(original['target'].value_counts()[:10].keys())\n",
    "tweets = dict(original['target'].value_counts()[:10])\n",
    "_seeders = df[df['target'].isin(top_seeder_accs)][\n",
    "    ['target','Twitter Screen Name','Twitter Followers','User Profile Url']\n",
    "]\n",
    "_seeders.drop_duplicates(subset=['target'],keep='first', inplace=True)\n",
    "_seeders['tweets_posted' ] = _seeders['target'].replace(tweets)\n",
    "_seeders.sort_values(by=['tweets_posted'],ascending=False)"
   ]
  },
  {
   "attachments": {},
   "cell_type": "markdown",
   "metadata": {},
   "source": [
    "#### Top Accounts that posted quoted tweets in the network\n",
    "\n",
    "\n",
    "This section tries to identify the key influencers within the twitter data by extracting the unique accounts and counting the total number of quoted tweets from these accounts. The aim is to understand who amplified most of the tweets or narratives through quotes."
   ]
  },
  {
   "cell_type": "code",
   "execution_count": 25,
   "metadata": {},
   "outputs": [
    {
     "data": {
      "text/plain": [
       "target\n",
       "@manric540          14\n",
       "@madametrois        12\n",
       "@jaeconomics         7\n",
       "@keru_ronald         7\n",
       "@nenstorg2011        6\n",
       "@beatric06754363     6\n",
       "@bgookiiry           6\n",
       "Name: count, dtype: int64"
      ]
     },
     "execution_count": 25,
     "metadata": {},
     "output_type": "execute_result"
    }
   ],
   "source": [
    "Q = df[df['tweet'].str.startswith(\"QT\", na=False)]\n",
    "quoted=Q['target'].value_counts().loc[lambda x: x>5]\n",
    "quoted"
   ]
  },
  {
   "attachments": {},
   "cell_type": "markdown",
   "metadata": {},
   "source": [
    "## `Network Analysis`\n",
    "### Archive Gephi file\n",
    "Gephi file is a file that helps in determining coodinated networks between original content creators and those that retweet their tweets.\n",
    "This way you can determine groups of networks that drive a particular narrative on the social media space.\n",
    "\n",
    "The file can then be viewed and networks determined by the [gephi](https://gephi.org/) tool."
   ]
  },
  {
   "cell_type": "code",
   "execution_count": 26,
   "metadata": {},
   "outputs": [],
   "source": [
    "data_expo = df[df['source'] != 'nan'].reset_index(drop=True)\n",
    "data_expo.index = data_expo.index.set_names(['Index'])\n",
    "data_expo = data_expo.rename(columns={'source':'Source',\n",
    "                          'target':'Target'})\n",
    "\n",
    "data_expo.to_csv('.gephi_ready_file_hatespeech.csv')"
   ]
  },
  {
   "attachments": {},
   "cell_type": "markdown",
   "metadata": {},
   "source": [
    "## `Conclusion`\n",
    "From the above analysis, we can therefore conclude that narratives on Twitter are driven by particular groups that involves a user posting a tweet and network of accounts amplifying the narrative through a tweet by retweeting and quoting. Why amplification occurs coould be because of financial gain or political gain as in the election period where politicians demean opposing candidates. Not all narratives are true some have a bias. This then makes Twitter as a tool for misinformation, disinformation and malinformation."
   ]
  }
 ],
 "metadata": {
  "kernelspec": {
   "display_name": "Python 3",
   "language": "python",
   "name": "python3"
  },
  "language_info": {
   "codemirror_mode": {
    "name": "ipython",
    "version": 3
   },
   "file_extension": ".py",
   "mimetype": "text/x-python",
   "name": "python",
   "nbconvert_exporter": "python",
   "pygments_lexer": "ipython3",
   "version": "3.10.4"
  },
  "orig_nbformat": 4
 },
 "nbformat": 4,
 "nbformat_minor": 2
}
